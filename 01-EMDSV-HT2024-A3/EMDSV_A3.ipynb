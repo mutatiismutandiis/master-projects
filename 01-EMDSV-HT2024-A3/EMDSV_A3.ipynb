{
  "nbformat": 4,
  "nbformat_minor": 0,
  "metadata": {
    "colab": {
      "provenance": [],
      "mount_file_id": "1d-ow7pU3dfYookaHAJGCgYV5x7XVYFLf",
      "authorship_tag": "ABX9TyO4rljoMZevtTVKByAQShw8",
      "include_colab_link": true
    },
    "kernelspec": {
      "name": "python3",
      "display_name": "Python 3"
    },
    "language_info": {
      "name": "python"
    }
  },
  "cells": [
    {
      "cell_type": "markdown",
      "metadata": {
        "id": "view-in-github",
        "colab_type": "text"
      },
      "source": [
        "<a href=\"https://colab.research.google.com/github/mutatiismutandiis/master-projects/blob/main/01-EMDSV-HT2024-A3/EMDSV_A3.ipynb\" target=\"_parent\"><img src=\"https://colab.research.google.com/assets/colab-badge.svg\" alt=\"Open In Colab\"/></a>"
      ]
    },
    {
      "cell_type": "markdown",
      "source": [
        "### EMDSV-HT24\n",
        "### Assignment 3 - Group Y - Quantitative part\n",
        "\n",
        "**Q6: How does the relationship between working during studies and learning look like?**\n"
      ],
      "metadata": {
        "id": "YLGQmQX5JLvh"
      }
    },
    {
      "cell_type": "code",
      "execution_count": null,
      "metadata": {
        "colab": {
          "base_uri": "https://localhost:8080/"
        },
        "id": "LzthBiXiIs7Q",
        "outputId": "4564165d-62f2-4864-871c-15ad9ce68eac"
      },
      "outputs": [
        {
          "output_type": "stream",
          "name": "stdout",
          "text": [
            "Drive already mounted at /content/drive; to attempt to forcibly remount, call drive.mount(\"/content/drive\", force_remount=True).\n"
          ]
        }
      ],
      "source": [
        "# Mont Google Drive\n",
        "from google.colab import drive\n",
        "drive.mount('/content/drive')\n",
        "\n",
        "# Import libraries\n",
        "import pandas as pd\n",
        "import numpy as np\n",
        "import re\n",
        "import plotly.express as px\n",
        "import plotly.io as pio\n",
        "import plotly.graph_objects as go\n",
        "from scipy.stats import mannwhitneyu, spearmanr, chi2_contingency, fisher_exact\n",
        "import statsmodels.api as sm # To perform Fisher's Exact test with larger tables"
      ]
    },
    {
      "cell_type": "code",
      "source": [
        "# Import data from the Excel file\n",
        "route = '/content/drive/MyDrive/CURSOS Y BECAS/2024 - Master/EMDSV/Dataset-Survey-HT24.xlsx'\n",
        "\n",
        "# Read the variable view (first sheet)\n",
        "variables_view = pd.read_excel(route, sheet_name=0)\n",
        "# Read the actual data (second sheet)\n",
        "data = pd.read_excel(route, sheet_name=1)\n",
        "\n",
        "# Display the first few rows of each for inspection\n",
        "print(variables_view.head())\n",
        "print(data.head())"
      ],
      "metadata": {
        "colab": {
          "base_uri": "https://localhost:8080/"
        },
        "id": "Wif4NptPReNG",
        "outputId": "bbf10f36-6b75-40aa-d83c-5f6e99495c3a"
      },
      "execution_count": null,
      "outputs": [
        {
          "output_type": "stream",
          "name": "stdout",
          "text": [
            "  Variable Name                                              Label  \\\n",
            "0        Gender                                             Gender   \n",
            "1           YoB                                      Year of birth   \n",
            "2    Employment  Do you work at the same time while studying at...   \n",
            "3    CommuteMin  What is your commuting distance to the campus ...   \n",
            "4       Program  Which of DSV's education programs do you curre...   \n",
            "\n",
            "                            Type Data Type  \\\n",
            "0  Single-Choice - Radio Buttons   Numeric   \n",
            "1               Numeric - Slider   Numeric   \n",
            "2  Single-Choice - Radio Buttons   Numeric   \n",
            "3               Numeric - Slider   Numeric   \n",
            "4  Single-Choice - Radio Buttons   Numeric   \n",
            "\n",
            "                                         Value Codes  Missing Code  \n",
            "0  1 = Man.\\n2 = Woman.\\n3 = Other/diverse.\\n4 = ...         999.0  \n",
            "1                                               none           NaN  \n",
            "2  1 = Full time employment.\\n2 = Part time emplo...         999.0  \n",
            "3                                               none           NaN  \n",
            "4  1 = Enterprise Systems and Service Design\\n2 =...         999.0  \n",
            "   ID  Gender   YoB  Employment  CommuteMin  Program  Semesters  GradePrg  \\\n",
            "0   2       1  1989           1           0       17         10         3   \n",
            "1   3       1  1995           1          63       17         16         2   \n",
            "2   4       1  1993           3          75       16          1         3   \n",
            "3   7       2  1969           1          30       17         30         3   \n",
            "4   8       1  2004           3         113        2          7         3   \n",
            "\n",
            "   ProgGradeEst  MotivPass  ...  BLprogPos  BLgeneralPos  BLstrongCollab  \\\n",
            "0             3          3  ...          6             6               6   \n",
            "1             2          2  ...          0             0               0   \n",
            "2             2          4  ...          6             6               3   \n",
            "3             3          3  ...          7             7               3   \n",
            "4             3          3  ...          5             5               5   \n",
            "\n",
            "   BLmoreLearn  BLeasierLearn  FCmoreResp  FCdiffLearn  BLdiffStudy  \\\n",
            "0            6              7           7            6            6   \n",
            "1            0              0           0            0            0   \n",
            "2            5              5           5            5            5   \n",
            "3            6              6           6            5            5   \n",
            "4            5              4           7            5            3   \n",
            "\n",
            "   LiveNrecorded  Comment  \n",
            "0              6      NaN  \n",
            "1              4      NaN  \n",
            "2              5      NaN  \n",
            "3              6      NaN  \n",
            "4              5      NaN  \n",
            "\n",
            "[5 rows x 72 columns]\n"
          ]
        }
      ]
    },
    {
      "cell_type": "code",
      "source": [
        "# Select variables needed for analysis\n",
        "variables_of_interest = ['Employment', 'StudyHrs', 'MotivPass', 'SpprtVideo']\n",
        "subset_data = data[variables_of_interest]\n",
        "\n",
        "# Check the first few rows\n",
        "print(subset_data.head())\n",
        "\n",
        "# Check for missing values and data types\n",
        "print(subset_data.isnull().sum())\n",
        "print(subset_data.dtypes)\n"
      ],
      "metadata": {
        "colab": {
          "base_uri": "https://localhost:8080/"
        },
        "id": "r6ycmeO0Ru3H",
        "outputId": "27f2afdd-2fb2-4e71-b889-746d71504f63"
      },
      "execution_count": null,
      "outputs": [
        {
          "output_type": "stream",
          "name": "stdout",
          "text": [
            "   Employment  StudyHrs  MotivPass  SpprtVideo\n",
            "0           1         6          3           5\n",
            "1           1         5          2           5\n",
            "2           3         4          4           6\n",
            "3           1         6          3           6\n",
            "4           3         4          3           4\n",
            "Employment    0\n",
            "StudyHrs      0\n",
            "MotivPass     0\n",
            "SpprtVideo    0\n",
            "dtype: int64\n",
            "Employment    int64\n",
            "StudyHrs      int64\n",
            "MotivPass     int64\n",
            "SpprtVideo    int64\n",
            "dtype: object\n"
          ]
        }
      ]
    },
    {
      "cell_type": "markdown",
      "source": [
        "**Notes:**\n",
        "\n",
        "*  Selected variables:\n",
        "  *  `Employment`: Coded as integers, representing categories:\n",
        "      * 1 = Full time employment\n",
        "      * 2 = Part time employment\n",
        "      * 3 = I do not work while being a student at DSV.\n",
        "  *  `StudyHrs`: Weekly study hours, coded as integers.\n",
        "  *  `MotivPass`: Measures the agreement/disagreement of the afirmation: *'My main motivation is to pass that part rather than learn a lot or to get a high grade'*, coded as integers, representing the following categories:\n",
        "      * 1 = Completely disagree\n",
        "      * 2 = Mostly disagree\n",
        "      * 3 = Somewhat disagree\n",
        "      * 4 = Neither agree nor disagree\n",
        "      * 5 = Somewhat agree\n",
        "      * 6 = Mostly agree\n",
        "      * 7 = Completely agree\n",
        "  *  `SpprtVideo`: Measures the agreement/disagreement of the afirmation: *'I looked for support in the video lectures when I needed it'*, also coded as integers, representing the same categories that the previous one.\n",
        "*  There are no missing values in the selected variables, so we don't need to handle them.\n",
        "*  All variables are currently stored as integers (int64).\n",
        "\n",
        "### General descriptive analysis\n",
        "\n"
      ],
      "metadata": {
        "id": "wgA0TvxzT8_t"
      }
    },
    {
      "cell_type": "code",
      "source": [
        "# Create a copy to prevent issues\n",
        "subset_data = data[variables_of_interest].copy()\n",
        "\n",
        "# Convert variables to categorical\n",
        "subset_data['Employment'] = subset_data['Employment'].astype('category')\n",
        "subset_data['MotivPass'] = subset_data['MotivPass'].astype('category')\n",
        "subset_data['SpprtVideo'] = subset_data['SpprtVideo'].astype('category')\n",
        "\n",
        "# Verify the changes\n",
        "print(subset_data.dtypes)\n",
        "\n",
        "# Frequency counts for Employment\n",
        "employment_counts = subset_data['Employment'].value_counts().sort_index()\n",
        "print(\"Employment counts:\\n\", employment_counts)\n",
        "\n",
        "# Add category labels for Employment\n",
        "employment_labels = {\n",
        "    1: \"Full-time employment\",\n",
        "    2: \"Part-time employment\",\n",
        "    3: \"Not employed\"\n",
        "}\n",
        "\n",
        "# Map labels to Employment counts\n",
        "employment_counts.index = employment_counts.index.map(employment_labels)\n",
        "\n",
        "# Pie chart for Employment\n",
        "fig_employment = px.pie(values=employment_counts.values,\n",
        "                        names=employment_counts.index,\n",
        "                        title='Employment Status Distribution',\n",
        "                        labels={'index': 'Employment Status', 'values': 'Count'})\n",
        "fig_employment.show()"
      ],
      "metadata": {
        "colab": {
          "base_uri": "https://localhost:8080/",
          "height": 733
        },
        "id": "J0nRUSwbVbMi",
        "outputId": "89d353f8-edd1-4b59-c482-2eb56290ce1d"
      },
      "execution_count": null,
      "outputs": [
        {
          "output_type": "stream",
          "name": "stdout",
          "text": [
            "Employment    category\n",
            "StudyHrs         int64\n",
            "MotivPass     category\n",
            "SpprtVideo    category\n",
            "dtype: object\n",
            "Employment counts:\n",
            " Employment\n",
            "1    57\n",
            "2    13\n",
            "3     6\n",
            "Name: count, dtype: int64\n"
          ]
        },
        {
          "output_type": "display_data",
          "data": {
            "text/html": [
              "<html>\n",
              "<head><meta charset=\"utf-8\" /></head>\n",
              "<body>\n",
              "    <div>            <script src=\"https://cdnjs.cloudflare.com/ajax/libs/mathjax/2.7.5/MathJax.js?config=TeX-AMS-MML_SVG\"></script><script type=\"text/javascript\">if (window.MathJax && window.MathJax.Hub && window.MathJax.Hub.Config) {window.MathJax.Hub.Config({SVG: {font: \"STIX-Web\"}});}</script>                <script type=\"text/javascript\">window.PlotlyConfig = {MathJaxConfig: 'local'};</script>\n",
              "        <script charset=\"utf-8\" src=\"https://cdn.plot.ly/plotly-2.35.2.min.js\"></script>                <div id=\"b5b82c19-3d76-42e2-a3cf-d57598ffd57b\" class=\"plotly-graph-div\" style=\"height:525px; width:100%;\"></div>            <script type=\"text/javascript\">                                    window.PLOTLYENV=window.PLOTLYENV || {};                                    if (document.getElementById(\"b5b82c19-3d76-42e2-a3cf-d57598ffd57b\")) {                    Plotly.newPlot(                        \"b5b82c19-3d76-42e2-a3cf-d57598ffd57b\",                        [{\"domain\":{\"x\":[0.0,1.0],\"y\":[0.0,1.0]},\"hovertemplate\":\"label=%{label}\\u003cbr\\u003eCount=%{value}\\u003cextra\\u003e\\u003c\\u002fextra\\u003e\",\"labels\":[\"Full-time employment\",\"Part-time employment\",\"Not employed\"],\"legendgroup\":\"\",\"name\":\"\",\"showlegend\":true,\"values\":[57,13,6],\"type\":\"pie\"}],                        {\"template\":{\"data\":{\"histogram2dcontour\":[{\"type\":\"histogram2dcontour\",\"colorbar\":{\"outlinewidth\":0,\"ticks\":\"\"},\"colorscale\":[[0.0,\"#0d0887\"],[0.1111111111111111,\"#46039f\"],[0.2222222222222222,\"#7201a8\"],[0.3333333333333333,\"#9c179e\"],[0.4444444444444444,\"#bd3786\"],[0.5555555555555556,\"#d8576b\"],[0.6666666666666666,\"#ed7953\"],[0.7777777777777778,\"#fb9f3a\"],[0.8888888888888888,\"#fdca26\"],[1.0,\"#f0f921\"]]}],\"choropleth\":[{\"type\":\"choropleth\",\"colorbar\":{\"outlinewidth\":0,\"ticks\":\"\"}}],\"histogram2d\":[{\"type\":\"histogram2d\",\"colorbar\":{\"outlinewidth\":0,\"ticks\":\"\"},\"colorscale\":[[0.0,\"#0d0887\"],[0.1111111111111111,\"#46039f\"],[0.2222222222222222,\"#7201a8\"],[0.3333333333333333,\"#9c179e\"],[0.4444444444444444,\"#bd3786\"],[0.5555555555555556,\"#d8576b\"],[0.6666666666666666,\"#ed7953\"],[0.7777777777777778,\"#fb9f3a\"],[0.8888888888888888,\"#fdca26\"],[1.0,\"#f0f921\"]]}],\"heatmap\":[{\"type\":\"heatmap\",\"colorbar\":{\"outlinewidth\":0,\"ticks\":\"\"},\"colorscale\":[[0.0,\"#0d0887\"],[0.1111111111111111,\"#46039f\"],[0.2222222222222222,\"#7201a8\"],[0.3333333333333333,\"#9c179e\"],[0.4444444444444444,\"#bd3786\"],[0.5555555555555556,\"#d8576b\"],[0.6666666666666666,\"#ed7953\"],[0.7777777777777778,\"#fb9f3a\"],[0.8888888888888888,\"#fdca26\"],[1.0,\"#f0f921\"]]}],\"heatmapgl\":[{\"type\":\"heatmapgl\",\"colorbar\":{\"outlinewidth\":0,\"ticks\":\"\"},\"colorscale\":[[0.0,\"#0d0887\"],[0.1111111111111111,\"#46039f\"],[0.2222222222222222,\"#7201a8\"],[0.3333333333333333,\"#9c179e\"],[0.4444444444444444,\"#bd3786\"],[0.5555555555555556,\"#d8576b\"],[0.6666666666666666,\"#ed7953\"],[0.7777777777777778,\"#fb9f3a\"],[0.8888888888888888,\"#fdca26\"],[1.0,\"#f0f921\"]]}],\"contourcarpet\":[{\"type\":\"contourcarpet\",\"colorbar\":{\"outlinewidth\":0,\"ticks\":\"\"}}],\"contour\":[{\"type\":\"contour\",\"colorbar\":{\"outlinewidth\":0,\"ticks\":\"\"},\"colorscale\":[[0.0,\"#0d0887\"],[0.1111111111111111,\"#46039f\"],[0.2222222222222222,\"#7201a8\"],[0.3333333333333333,\"#9c179e\"],[0.4444444444444444,\"#bd3786\"],[0.5555555555555556,\"#d8576b\"],[0.6666666666666666,\"#ed7953\"],[0.7777777777777778,\"#fb9f3a\"],[0.8888888888888888,\"#fdca26\"],[1.0,\"#f0f921\"]]}],\"surface\":[{\"type\":\"surface\",\"colorbar\":{\"outlinewidth\":0,\"ticks\":\"\"},\"colorscale\":[[0.0,\"#0d0887\"],[0.1111111111111111,\"#46039f\"],[0.2222222222222222,\"#7201a8\"],[0.3333333333333333,\"#9c179e\"],[0.4444444444444444,\"#bd3786\"],[0.5555555555555556,\"#d8576b\"],[0.6666666666666666,\"#ed7953\"],[0.7777777777777778,\"#fb9f3a\"],[0.8888888888888888,\"#fdca26\"],[1.0,\"#f0f921\"]]}],\"mesh3d\":[{\"type\":\"mesh3d\",\"colorbar\":{\"outlinewidth\":0,\"ticks\":\"\"}}],\"scatter\":[{\"fillpattern\":{\"fillmode\":\"overlay\",\"size\":10,\"solidity\":0.2},\"type\":\"scatter\"}],\"parcoords\":[{\"type\":\"parcoords\",\"line\":{\"colorbar\":{\"outlinewidth\":0,\"ticks\":\"\"}}}],\"scatterpolargl\":[{\"type\":\"scatterpolargl\",\"marker\":{\"colorbar\":{\"outlinewidth\":0,\"ticks\":\"\"}}}],\"bar\":[{\"error_x\":{\"color\":\"#2a3f5f\"},\"error_y\":{\"color\":\"#2a3f5f\"},\"marker\":{\"line\":{\"color\":\"#E5ECF6\",\"width\":0.5},\"pattern\":{\"fillmode\":\"overlay\",\"size\":10,\"solidity\":0.2}},\"type\":\"bar\"}],\"scattergeo\":[{\"type\":\"scattergeo\",\"marker\":{\"colorbar\":{\"outlinewidth\":0,\"ticks\":\"\"}}}],\"scatterpolar\":[{\"type\":\"scatterpolar\",\"marker\":{\"colorbar\":{\"outlinewidth\":0,\"ticks\":\"\"}}}],\"histogram\":[{\"marker\":{\"pattern\":{\"fillmode\":\"overlay\",\"size\":10,\"solidity\":0.2}},\"type\":\"histogram\"}],\"scattergl\":[{\"type\":\"scattergl\",\"marker\":{\"colorbar\":{\"outlinewidth\":0,\"ticks\":\"\"}}}],\"scatter3d\":[{\"type\":\"scatter3d\",\"line\":{\"colorbar\":{\"outlinewidth\":0,\"ticks\":\"\"}},\"marker\":{\"colorbar\":{\"outlinewidth\":0,\"ticks\":\"\"}}}],\"scattermapbox\":[{\"type\":\"scattermapbox\",\"marker\":{\"colorbar\":{\"outlinewidth\":0,\"ticks\":\"\"}}}],\"scatterternary\":[{\"type\":\"scatterternary\",\"marker\":{\"colorbar\":{\"outlinewidth\":0,\"ticks\":\"\"}}}],\"scattercarpet\":[{\"type\":\"scattercarpet\",\"marker\":{\"colorbar\":{\"outlinewidth\":0,\"ticks\":\"\"}}}],\"carpet\":[{\"aaxis\":{\"endlinecolor\":\"#2a3f5f\",\"gridcolor\":\"white\",\"linecolor\":\"white\",\"minorgridcolor\":\"white\",\"startlinecolor\":\"#2a3f5f\"},\"baxis\":{\"endlinecolor\":\"#2a3f5f\",\"gridcolor\":\"white\",\"linecolor\":\"white\",\"minorgridcolor\":\"white\",\"startlinecolor\":\"#2a3f5f\"},\"type\":\"carpet\"}],\"table\":[{\"cells\":{\"fill\":{\"color\":\"#EBF0F8\"},\"line\":{\"color\":\"white\"}},\"header\":{\"fill\":{\"color\":\"#C8D4E3\"},\"line\":{\"color\":\"white\"}},\"type\":\"table\"}],\"barpolar\":[{\"marker\":{\"line\":{\"color\":\"#E5ECF6\",\"width\":0.5},\"pattern\":{\"fillmode\":\"overlay\",\"size\":10,\"solidity\":0.2}},\"type\":\"barpolar\"}],\"pie\":[{\"automargin\":true,\"type\":\"pie\"}]},\"layout\":{\"autotypenumbers\":\"strict\",\"colorway\":[\"#636efa\",\"#EF553B\",\"#00cc96\",\"#ab63fa\",\"#FFA15A\",\"#19d3f3\",\"#FF6692\",\"#B6E880\",\"#FF97FF\",\"#FECB52\"],\"font\":{\"color\":\"#2a3f5f\"},\"hovermode\":\"closest\",\"hoverlabel\":{\"align\":\"left\"},\"paper_bgcolor\":\"white\",\"plot_bgcolor\":\"#E5ECF6\",\"polar\":{\"bgcolor\":\"#E5ECF6\",\"angularaxis\":{\"gridcolor\":\"white\",\"linecolor\":\"white\",\"ticks\":\"\"},\"radialaxis\":{\"gridcolor\":\"white\",\"linecolor\":\"white\",\"ticks\":\"\"}},\"ternary\":{\"bgcolor\":\"#E5ECF6\",\"aaxis\":{\"gridcolor\":\"white\",\"linecolor\":\"white\",\"ticks\":\"\"},\"baxis\":{\"gridcolor\":\"white\",\"linecolor\":\"white\",\"ticks\":\"\"},\"caxis\":{\"gridcolor\":\"white\",\"linecolor\":\"white\",\"ticks\":\"\"}},\"coloraxis\":{\"colorbar\":{\"outlinewidth\":0,\"ticks\":\"\"}},\"colorscale\":{\"sequential\":[[0.0,\"#0d0887\"],[0.1111111111111111,\"#46039f\"],[0.2222222222222222,\"#7201a8\"],[0.3333333333333333,\"#9c179e\"],[0.4444444444444444,\"#bd3786\"],[0.5555555555555556,\"#d8576b\"],[0.6666666666666666,\"#ed7953\"],[0.7777777777777778,\"#fb9f3a\"],[0.8888888888888888,\"#fdca26\"],[1.0,\"#f0f921\"]],\"sequentialminus\":[[0.0,\"#0d0887\"],[0.1111111111111111,\"#46039f\"],[0.2222222222222222,\"#7201a8\"],[0.3333333333333333,\"#9c179e\"],[0.4444444444444444,\"#bd3786\"],[0.5555555555555556,\"#d8576b\"],[0.6666666666666666,\"#ed7953\"],[0.7777777777777778,\"#fb9f3a\"],[0.8888888888888888,\"#fdca26\"],[1.0,\"#f0f921\"]],\"diverging\":[[0,\"#8e0152\"],[0.1,\"#c51b7d\"],[0.2,\"#de77ae\"],[0.3,\"#f1b6da\"],[0.4,\"#fde0ef\"],[0.5,\"#f7f7f7\"],[0.6,\"#e6f5d0\"],[0.7,\"#b8e186\"],[0.8,\"#7fbc41\"],[0.9,\"#4d9221\"],[1,\"#276419\"]]},\"xaxis\":{\"gridcolor\":\"white\",\"linecolor\":\"white\",\"ticks\":\"\",\"title\":{\"standoff\":15},\"zerolinecolor\":\"white\",\"automargin\":true,\"zerolinewidth\":2},\"yaxis\":{\"gridcolor\":\"white\",\"linecolor\":\"white\",\"ticks\":\"\",\"title\":{\"standoff\":15},\"zerolinecolor\":\"white\",\"automargin\":true,\"zerolinewidth\":2},\"scene\":{\"xaxis\":{\"backgroundcolor\":\"#E5ECF6\",\"gridcolor\":\"white\",\"linecolor\":\"white\",\"showbackground\":true,\"ticks\":\"\",\"zerolinecolor\":\"white\",\"gridwidth\":2},\"yaxis\":{\"backgroundcolor\":\"#E5ECF6\",\"gridcolor\":\"white\",\"linecolor\":\"white\",\"showbackground\":true,\"ticks\":\"\",\"zerolinecolor\":\"white\",\"gridwidth\":2},\"zaxis\":{\"backgroundcolor\":\"#E5ECF6\",\"gridcolor\":\"white\",\"linecolor\":\"white\",\"showbackground\":true,\"ticks\":\"\",\"zerolinecolor\":\"white\",\"gridwidth\":2}},\"shapedefaults\":{\"line\":{\"color\":\"#2a3f5f\"}},\"annotationdefaults\":{\"arrowcolor\":\"#2a3f5f\",\"arrowhead\":0,\"arrowwidth\":1},\"geo\":{\"bgcolor\":\"white\",\"landcolor\":\"#E5ECF6\",\"subunitcolor\":\"white\",\"showland\":true,\"showlakes\":true,\"lakecolor\":\"white\"},\"title\":{\"x\":0.05},\"mapbox\":{\"style\":\"light\"}}},\"legend\":{\"tracegroupgap\":0},\"title\":{\"text\":\"Employment Status Distribution\"}},                        {\"responsive\": true}                    ).then(function(){\n",
              "                            \n",
              "var gd = document.getElementById('b5b82c19-3d76-42e2-a3cf-d57598ffd57b');\n",
              "var x = new MutationObserver(function (mutations, observer) {{\n",
              "        var display = window.getComputedStyle(gd).display;\n",
              "        if (!display || display === 'none') {{\n",
              "            console.log([gd, 'removed!']);\n",
              "            Plotly.purge(gd);\n",
              "            observer.disconnect();\n",
              "        }}\n",
              "}});\n",
              "\n",
              "// Listen for the removal of the full notebook cells\n",
              "var notebookContainer = gd.closest('#notebook-container');\n",
              "if (notebookContainer) {{\n",
              "    x.observe(notebookContainer, {childList: true});\n",
              "}}\n",
              "\n",
              "// Listen for the clearing of the current output cell\n",
              "var outputEl = gd.closest('.output');\n",
              "if (outputEl) {{\n",
              "    x.observe(outputEl, {childList: true});\n",
              "}}\n",
              "\n",
              "                        })                };                            </script>        </div>\n",
              "</body>\n",
              "</html>"
            ]
          },
          "metadata": {}
        }
      ]
    },
    {
      "cell_type": "code",
      "source": [
        "# Frequency counts for MotivPass and SpprtVideo\n",
        "motivpass_counts = subset_data['MotivPass'].value_counts().sort_index()\n",
        "spprtvideo_counts = subset_data['SpprtVideo'].value_counts().sort_index()\n",
        "\n",
        "print(\"MotivPass counts:\\n\", motivpass_counts)\n",
        "print(\"SpprtVideo counts:\\n\", spprtvideo_counts)\n",
        "\n",
        "# Bar chart for MotivPass\n",
        "fig_motivpass = px.bar(x=motivpass_counts.index,\n",
        "                       y=motivpass_counts.values,\n",
        "                       title='Motivation to Pass Distribution',\n",
        "                       labels={'x': 'Motivation Level', 'y': 'Count'})\n",
        "fig_motivpass.show()\n",
        "\n",
        "# Bar chart for SpprtVideo\n",
        "fig_spprtvideo = px.bar(x=spprtvideo_counts.index,\n",
        "                        y=spprtvideo_counts.values,\n",
        "                        title='Support in Video Lectures Distribution',\n",
        "                        labels={'x': 'Agreement Level', 'y': 'Count'})\n",
        "fig_spprtvideo.show()\n"
      ],
      "metadata": {
        "id": "dh6a4IAb2Sbb",
        "colab": {
          "base_uri": "https://localhost:8080/",
          "height": 1000
        },
        "outputId": "f869b9ee-46ba-4a6e-dcaf-25d1b4811ced"
      },
      "execution_count": null,
      "outputs": [
        {
          "output_type": "stream",
          "name": "stdout",
          "text": [
            "MotivPass counts:\n",
            " MotivPass\n",
            "1    15\n",
            "2    21\n",
            "3    19\n",
            "4     6\n",
            "5     7\n",
            "6     6\n",
            "7     2\n",
            "Name: count, dtype: int64\n",
            "SpprtVideo counts:\n",
            " SpprtVideo\n",
            "2     1\n",
            "3     2\n",
            "4     4\n",
            "5    16\n",
            "6    19\n",
            "7    34\n",
            "Name: count, dtype: int64\n"
          ]
        },
        {
          "output_type": "display_data",
          "data": {
            "text/html": [
              "<html>\n",
              "<head><meta charset=\"utf-8\" /></head>\n",
              "<body>\n",
              "    <div>            <script src=\"https://cdnjs.cloudflare.com/ajax/libs/mathjax/2.7.5/MathJax.js?config=TeX-AMS-MML_SVG\"></script><script type=\"text/javascript\">if (window.MathJax && window.MathJax.Hub && window.MathJax.Hub.Config) {window.MathJax.Hub.Config({SVG: {font: \"STIX-Web\"}});}</script>                <script type=\"text/javascript\">window.PlotlyConfig = {MathJaxConfig: 'local'};</script>\n",
              "        <script charset=\"utf-8\" src=\"https://cdn.plot.ly/plotly-2.35.2.min.js\"></script>                <div id=\"6ad22744-b0e0-4b61-9820-4d62ad833954\" class=\"plotly-graph-div\" style=\"height:525px; width:100%;\"></div>            <script type=\"text/javascript\">                                    window.PLOTLYENV=window.PLOTLYENV || {};                                    if (document.getElementById(\"6ad22744-b0e0-4b61-9820-4d62ad833954\")) {                    Plotly.newPlot(                        \"6ad22744-b0e0-4b61-9820-4d62ad833954\",                        [{\"alignmentgroup\":\"True\",\"hovertemplate\":\"Motivation Level=%{x}\\u003cbr\\u003eCount=%{y}\\u003cextra\\u003e\\u003c\\u002fextra\\u003e\",\"legendgroup\":\"\",\"marker\":{\"color\":\"#636efa\",\"pattern\":{\"shape\":\"\"}},\"name\":\"\",\"offsetgroup\":\"\",\"orientation\":\"v\",\"showlegend\":false,\"textposition\":\"auto\",\"x\":[1,2,3,4,5,6,7],\"xaxis\":\"x\",\"y\":[15,21,19,6,7,6,2],\"yaxis\":\"y\",\"type\":\"bar\"}],                        {\"template\":{\"data\":{\"histogram2dcontour\":[{\"type\":\"histogram2dcontour\",\"colorbar\":{\"outlinewidth\":0,\"ticks\":\"\"},\"colorscale\":[[0.0,\"#0d0887\"],[0.1111111111111111,\"#46039f\"],[0.2222222222222222,\"#7201a8\"],[0.3333333333333333,\"#9c179e\"],[0.4444444444444444,\"#bd3786\"],[0.5555555555555556,\"#d8576b\"],[0.6666666666666666,\"#ed7953\"],[0.7777777777777778,\"#fb9f3a\"],[0.8888888888888888,\"#fdca26\"],[1.0,\"#f0f921\"]]}],\"choropleth\":[{\"type\":\"choropleth\",\"colorbar\":{\"outlinewidth\":0,\"ticks\":\"\"}}],\"histogram2d\":[{\"type\":\"histogram2d\",\"colorbar\":{\"outlinewidth\":0,\"ticks\":\"\"},\"colorscale\":[[0.0,\"#0d0887\"],[0.1111111111111111,\"#46039f\"],[0.2222222222222222,\"#7201a8\"],[0.3333333333333333,\"#9c179e\"],[0.4444444444444444,\"#bd3786\"],[0.5555555555555556,\"#d8576b\"],[0.6666666666666666,\"#ed7953\"],[0.7777777777777778,\"#fb9f3a\"],[0.8888888888888888,\"#fdca26\"],[1.0,\"#f0f921\"]]}],\"heatmap\":[{\"type\":\"heatmap\",\"colorbar\":{\"outlinewidth\":0,\"ticks\":\"\"},\"colorscale\":[[0.0,\"#0d0887\"],[0.1111111111111111,\"#46039f\"],[0.2222222222222222,\"#7201a8\"],[0.3333333333333333,\"#9c179e\"],[0.4444444444444444,\"#bd3786\"],[0.5555555555555556,\"#d8576b\"],[0.6666666666666666,\"#ed7953\"],[0.7777777777777778,\"#fb9f3a\"],[0.8888888888888888,\"#fdca26\"],[1.0,\"#f0f921\"]]}],\"heatmapgl\":[{\"type\":\"heatmapgl\",\"colorbar\":{\"outlinewidth\":0,\"ticks\":\"\"},\"colorscale\":[[0.0,\"#0d0887\"],[0.1111111111111111,\"#46039f\"],[0.2222222222222222,\"#7201a8\"],[0.3333333333333333,\"#9c179e\"],[0.4444444444444444,\"#bd3786\"],[0.5555555555555556,\"#d8576b\"],[0.6666666666666666,\"#ed7953\"],[0.7777777777777778,\"#fb9f3a\"],[0.8888888888888888,\"#fdca26\"],[1.0,\"#f0f921\"]]}],\"contourcarpet\":[{\"type\":\"contourcarpet\",\"colorbar\":{\"outlinewidth\":0,\"ticks\":\"\"}}],\"contour\":[{\"type\":\"contour\",\"colorbar\":{\"outlinewidth\":0,\"ticks\":\"\"},\"colorscale\":[[0.0,\"#0d0887\"],[0.1111111111111111,\"#46039f\"],[0.2222222222222222,\"#7201a8\"],[0.3333333333333333,\"#9c179e\"],[0.4444444444444444,\"#bd3786\"],[0.5555555555555556,\"#d8576b\"],[0.6666666666666666,\"#ed7953\"],[0.7777777777777778,\"#fb9f3a\"],[0.8888888888888888,\"#fdca26\"],[1.0,\"#f0f921\"]]}],\"surface\":[{\"type\":\"surface\",\"colorbar\":{\"outlinewidth\":0,\"ticks\":\"\"},\"colorscale\":[[0.0,\"#0d0887\"],[0.1111111111111111,\"#46039f\"],[0.2222222222222222,\"#7201a8\"],[0.3333333333333333,\"#9c179e\"],[0.4444444444444444,\"#bd3786\"],[0.5555555555555556,\"#d8576b\"],[0.6666666666666666,\"#ed7953\"],[0.7777777777777778,\"#fb9f3a\"],[0.8888888888888888,\"#fdca26\"],[1.0,\"#f0f921\"]]}],\"mesh3d\":[{\"type\":\"mesh3d\",\"colorbar\":{\"outlinewidth\":0,\"ticks\":\"\"}}],\"scatter\":[{\"fillpattern\":{\"fillmode\":\"overlay\",\"size\":10,\"solidity\":0.2},\"type\":\"scatter\"}],\"parcoords\":[{\"type\":\"parcoords\",\"line\":{\"colorbar\":{\"outlinewidth\":0,\"ticks\":\"\"}}}],\"scatterpolargl\":[{\"type\":\"scatterpolargl\",\"marker\":{\"colorbar\":{\"outlinewidth\":0,\"ticks\":\"\"}}}],\"bar\":[{\"error_x\":{\"color\":\"#2a3f5f\"},\"error_y\":{\"color\":\"#2a3f5f\"},\"marker\":{\"line\":{\"color\":\"#E5ECF6\",\"width\":0.5},\"pattern\":{\"fillmode\":\"overlay\",\"size\":10,\"solidity\":0.2}},\"type\":\"bar\"}],\"scattergeo\":[{\"type\":\"scattergeo\",\"marker\":{\"colorbar\":{\"outlinewidth\":0,\"ticks\":\"\"}}}],\"scatterpolar\":[{\"type\":\"scatterpolar\",\"marker\":{\"colorbar\":{\"outlinewidth\":0,\"ticks\":\"\"}}}],\"histogram\":[{\"marker\":{\"pattern\":{\"fillmode\":\"overlay\",\"size\":10,\"solidity\":0.2}},\"type\":\"histogram\"}],\"scattergl\":[{\"type\":\"scattergl\",\"marker\":{\"colorbar\":{\"outlinewidth\":0,\"ticks\":\"\"}}}],\"scatter3d\":[{\"type\":\"scatter3d\",\"line\":{\"colorbar\":{\"outlinewidth\":0,\"ticks\":\"\"}},\"marker\":{\"colorbar\":{\"outlinewidth\":0,\"ticks\":\"\"}}}],\"scattermapbox\":[{\"type\":\"scattermapbox\",\"marker\":{\"colorbar\":{\"outlinewidth\":0,\"ticks\":\"\"}}}],\"scatterternary\":[{\"type\":\"scatterternary\",\"marker\":{\"colorbar\":{\"outlinewidth\":0,\"ticks\":\"\"}}}],\"scattercarpet\":[{\"type\":\"scattercarpet\",\"marker\":{\"colorbar\":{\"outlinewidth\":0,\"ticks\":\"\"}}}],\"carpet\":[{\"aaxis\":{\"endlinecolor\":\"#2a3f5f\",\"gridcolor\":\"white\",\"linecolor\":\"white\",\"minorgridcolor\":\"white\",\"startlinecolor\":\"#2a3f5f\"},\"baxis\":{\"endlinecolor\":\"#2a3f5f\",\"gridcolor\":\"white\",\"linecolor\":\"white\",\"minorgridcolor\":\"white\",\"startlinecolor\":\"#2a3f5f\"},\"type\":\"carpet\"}],\"table\":[{\"cells\":{\"fill\":{\"color\":\"#EBF0F8\"},\"line\":{\"color\":\"white\"}},\"header\":{\"fill\":{\"color\":\"#C8D4E3\"},\"line\":{\"color\":\"white\"}},\"type\":\"table\"}],\"barpolar\":[{\"marker\":{\"line\":{\"color\":\"#E5ECF6\",\"width\":0.5},\"pattern\":{\"fillmode\":\"overlay\",\"size\":10,\"solidity\":0.2}},\"type\":\"barpolar\"}],\"pie\":[{\"automargin\":true,\"type\":\"pie\"}]},\"layout\":{\"autotypenumbers\":\"strict\",\"colorway\":[\"#636efa\",\"#EF553B\",\"#00cc96\",\"#ab63fa\",\"#FFA15A\",\"#19d3f3\",\"#FF6692\",\"#B6E880\",\"#FF97FF\",\"#FECB52\"],\"font\":{\"color\":\"#2a3f5f\"},\"hovermode\":\"closest\",\"hoverlabel\":{\"align\":\"left\"},\"paper_bgcolor\":\"white\",\"plot_bgcolor\":\"#E5ECF6\",\"polar\":{\"bgcolor\":\"#E5ECF6\",\"angularaxis\":{\"gridcolor\":\"white\",\"linecolor\":\"white\",\"ticks\":\"\"},\"radialaxis\":{\"gridcolor\":\"white\",\"linecolor\":\"white\",\"ticks\":\"\"}},\"ternary\":{\"bgcolor\":\"#E5ECF6\",\"aaxis\":{\"gridcolor\":\"white\",\"linecolor\":\"white\",\"ticks\":\"\"},\"baxis\":{\"gridcolor\":\"white\",\"linecolor\":\"white\",\"ticks\":\"\"},\"caxis\":{\"gridcolor\":\"white\",\"linecolor\":\"white\",\"ticks\":\"\"}},\"coloraxis\":{\"colorbar\":{\"outlinewidth\":0,\"ticks\":\"\"}},\"colorscale\":{\"sequential\":[[0.0,\"#0d0887\"],[0.1111111111111111,\"#46039f\"],[0.2222222222222222,\"#7201a8\"],[0.3333333333333333,\"#9c179e\"],[0.4444444444444444,\"#bd3786\"],[0.5555555555555556,\"#d8576b\"],[0.6666666666666666,\"#ed7953\"],[0.7777777777777778,\"#fb9f3a\"],[0.8888888888888888,\"#fdca26\"],[1.0,\"#f0f921\"]],\"sequentialminus\":[[0.0,\"#0d0887\"],[0.1111111111111111,\"#46039f\"],[0.2222222222222222,\"#7201a8\"],[0.3333333333333333,\"#9c179e\"],[0.4444444444444444,\"#bd3786\"],[0.5555555555555556,\"#d8576b\"],[0.6666666666666666,\"#ed7953\"],[0.7777777777777778,\"#fb9f3a\"],[0.8888888888888888,\"#fdca26\"],[1.0,\"#f0f921\"]],\"diverging\":[[0,\"#8e0152\"],[0.1,\"#c51b7d\"],[0.2,\"#de77ae\"],[0.3,\"#f1b6da\"],[0.4,\"#fde0ef\"],[0.5,\"#f7f7f7\"],[0.6,\"#e6f5d0\"],[0.7,\"#b8e186\"],[0.8,\"#7fbc41\"],[0.9,\"#4d9221\"],[1,\"#276419\"]]},\"xaxis\":{\"gridcolor\":\"white\",\"linecolor\":\"white\",\"ticks\":\"\",\"title\":{\"standoff\":15},\"zerolinecolor\":\"white\",\"automargin\":true,\"zerolinewidth\":2},\"yaxis\":{\"gridcolor\":\"white\",\"linecolor\":\"white\",\"ticks\":\"\",\"title\":{\"standoff\":15},\"zerolinecolor\":\"white\",\"automargin\":true,\"zerolinewidth\":2},\"scene\":{\"xaxis\":{\"backgroundcolor\":\"#E5ECF6\",\"gridcolor\":\"white\",\"linecolor\":\"white\",\"showbackground\":true,\"ticks\":\"\",\"zerolinecolor\":\"white\",\"gridwidth\":2},\"yaxis\":{\"backgroundcolor\":\"#E5ECF6\",\"gridcolor\":\"white\",\"linecolor\":\"white\",\"showbackground\":true,\"ticks\":\"\",\"zerolinecolor\":\"white\",\"gridwidth\":2},\"zaxis\":{\"backgroundcolor\":\"#E5ECF6\",\"gridcolor\":\"white\",\"linecolor\":\"white\",\"showbackground\":true,\"ticks\":\"\",\"zerolinecolor\":\"white\",\"gridwidth\":2}},\"shapedefaults\":{\"line\":{\"color\":\"#2a3f5f\"}},\"annotationdefaults\":{\"arrowcolor\":\"#2a3f5f\",\"arrowhead\":0,\"arrowwidth\":1},\"geo\":{\"bgcolor\":\"white\",\"landcolor\":\"#E5ECF6\",\"subunitcolor\":\"white\",\"showland\":true,\"showlakes\":true,\"lakecolor\":\"white\"},\"title\":{\"x\":0.05},\"mapbox\":{\"style\":\"light\"}}},\"xaxis\":{\"anchor\":\"y\",\"domain\":[0.0,1.0],\"title\":{\"text\":\"Motivation Level\"}},\"yaxis\":{\"anchor\":\"x\",\"domain\":[0.0,1.0],\"title\":{\"text\":\"Count\"}},\"legend\":{\"tracegroupgap\":0},\"title\":{\"text\":\"Motivation to Pass Distribution\"},\"barmode\":\"relative\"},                        {\"responsive\": true}                    ).then(function(){\n",
              "                            \n",
              "var gd = document.getElementById('6ad22744-b0e0-4b61-9820-4d62ad833954');\n",
              "var x = new MutationObserver(function (mutations, observer) {{\n",
              "        var display = window.getComputedStyle(gd).display;\n",
              "        if (!display || display === 'none') {{\n",
              "            console.log([gd, 'removed!']);\n",
              "            Plotly.purge(gd);\n",
              "            observer.disconnect();\n",
              "        }}\n",
              "}});\n",
              "\n",
              "// Listen for the removal of the full notebook cells\n",
              "var notebookContainer = gd.closest('#notebook-container');\n",
              "if (notebookContainer) {{\n",
              "    x.observe(notebookContainer, {childList: true});\n",
              "}}\n",
              "\n",
              "// Listen for the clearing of the current output cell\n",
              "var outputEl = gd.closest('.output');\n",
              "if (outputEl) {{\n",
              "    x.observe(outputEl, {childList: true});\n",
              "}}\n",
              "\n",
              "                        })                };                            </script>        </div>\n",
              "</body>\n",
              "</html>"
            ]
          },
          "metadata": {}
        },
        {
          "output_type": "display_data",
          "data": {
            "text/html": [
              "<html>\n",
              "<head><meta charset=\"utf-8\" /></head>\n",
              "<body>\n",
              "    <div>            <script src=\"https://cdnjs.cloudflare.com/ajax/libs/mathjax/2.7.5/MathJax.js?config=TeX-AMS-MML_SVG\"></script><script type=\"text/javascript\">if (window.MathJax && window.MathJax.Hub && window.MathJax.Hub.Config) {window.MathJax.Hub.Config({SVG: {font: \"STIX-Web\"}});}</script>                <script type=\"text/javascript\">window.PlotlyConfig = {MathJaxConfig: 'local'};</script>\n",
              "        <script charset=\"utf-8\" src=\"https://cdn.plot.ly/plotly-2.35.2.min.js\"></script>                <div id=\"54bbf8a9-450b-47fc-b38c-33f4ee510ed8\" class=\"plotly-graph-div\" style=\"height:525px; width:100%;\"></div>            <script type=\"text/javascript\">                                    window.PLOTLYENV=window.PLOTLYENV || {};                                    if (document.getElementById(\"54bbf8a9-450b-47fc-b38c-33f4ee510ed8\")) {                    Plotly.newPlot(                        \"54bbf8a9-450b-47fc-b38c-33f4ee510ed8\",                        [{\"alignmentgroup\":\"True\",\"hovertemplate\":\"Agreement Level=%{x}\\u003cbr\\u003eCount=%{y}\\u003cextra\\u003e\\u003c\\u002fextra\\u003e\",\"legendgroup\":\"\",\"marker\":{\"color\":\"#636efa\",\"pattern\":{\"shape\":\"\"}},\"name\":\"\",\"offsetgroup\":\"\",\"orientation\":\"v\",\"showlegend\":false,\"textposition\":\"auto\",\"x\":[2,3,4,5,6,7],\"xaxis\":\"x\",\"y\":[1,2,4,16,19,34],\"yaxis\":\"y\",\"type\":\"bar\"}],                        {\"template\":{\"data\":{\"histogram2dcontour\":[{\"type\":\"histogram2dcontour\",\"colorbar\":{\"outlinewidth\":0,\"ticks\":\"\"},\"colorscale\":[[0.0,\"#0d0887\"],[0.1111111111111111,\"#46039f\"],[0.2222222222222222,\"#7201a8\"],[0.3333333333333333,\"#9c179e\"],[0.4444444444444444,\"#bd3786\"],[0.5555555555555556,\"#d8576b\"],[0.6666666666666666,\"#ed7953\"],[0.7777777777777778,\"#fb9f3a\"],[0.8888888888888888,\"#fdca26\"],[1.0,\"#f0f921\"]]}],\"choropleth\":[{\"type\":\"choropleth\",\"colorbar\":{\"outlinewidth\":0,\"ticks\":\"\"}}],\"histogram2d\":[{\"type\":\"histogram2d\",\"colorbar\":{\"outlinewidth\":0,\"ticks\":\"\"},\"colorscale\":[[0.0,\"#0d0887\"],[0.1111111111111111,\"#46039f\"],[0.2222222222222222,\"#7201a8\"],[0.3333333333333333,\"#9c179e\"],[0.4444444444444444,\"#bd3786\"],[0.5555555555555556,\"#d8576b\"],[0.6666666666666666,\"#ed7953\"],[0.7777777777777778,\"#fb9f3a\"],[0.8888888888888888,\"#fdca26\"],[1.0,\"#f0f921\"]]}],\"heatmap\":[{\"type\":\"heatmap\",\"colorbar\":{\"outlinewidth\":0,\"ticks\":\"\"},\"colorscale\":[[0.0,\"#0d0887\"],[0.1111111111111111,\"#46039f\"],[0.2222222222222222,\"#7201a8\"],[0.3333333333333333,\"#9c179e\"],[0.4444444444444444,\"#bd3786\"],[0.5555555555555556,\"#d8576b\"],[0.6666666666666666,\"#ed7953\"],[0.7777777777777778,\"#fb9f3a\"],[0.8888888888888888,\"#fdca26\"],[1.0,\"#f0f921\"]]}],\"heatmapgl\":[{\"type\":\"heatmapgl\",\"colorbar\":{\"outlinewidth\":0,\"ticks\":\"\"},\"colorscale\":[[0.0,\"#0d0887\"],[0.1111111111111111,\"#46039f\"],[0.2222222222222222,\"#7201a8\"],[0.3333333333333333,\"#9c179e\"],[0.4444444444444444,\"#bd3786\"],[0.5555555555555556,\"#d8576b\"],[0.6666666666666666,\"#ed7953\"],[0.7777777777777778,\"#fb9f3a\"],[0.8888888888888888,\"#fdca26\"],[1.0,\"#f0f921\"]]}],\"contourcarpet\":[{\"type\":\"contourcarpet\",\"colorbar\":{\"outlinewidth\":0,\"ticks\":\"\"}}],\"contour\":[{\"type\":\"contour\",\"colorbar\":{\"outlinewidth\":0,\"ticks\":\"\"},\"colorscale\":[[0.0,\"#0d0887\"],[0.1111111111111111,\"#46039f\"],[0.2222222222222222,\"#7201a8\"],[0.3333333333333333,\"#9c179e\"],[0.4444444444444444,\"#bd3786\"],[0.5555555555555556,\"#d8576b\"],[0.6666666666666666,\"#ed7953\"],[0.7777777777777778,\"#fb9f3a\"],[0.8888888888888888,\"#fdca26\"],[1.0,\"#f0f921\"]]}],\"surface\":[{\"type\":\"surface\",\"colorbar\":{\"outlinewidth\":0,\"ticks\":\"\"},\"colorscale\":[[0.0,\"#0d0887\"],[0.1111111111111111,\"#46039f\"],[0.2222222222222222,\"#7201a8\"],[0.3333333333333333,\"#9c179e\"],[0.4444444444444444,\"#bd3786\"],[0.5555555555555556,\"#d8576b\"],[0.6666666666666666,\"#ed7953\"],[0.7777777777777778,\"#fb9f3a\"],[0.8888888888888888,\"#fdca26\"],[1.0,\"#f0f921\"]]}],\"mesh3d\":[{\"type\":\"mesh3d\",\"colorbar\":{\"outlinewidth\":0,\"ticks\":\"\"}}],\"scatter\":[{\"fillpattern\":{\"fillmode\":\"overlay\",\"size\":10,\"solidity\":0.2},\"type\":\"scatter\"}],\"parcoords\":[{\"type\":\"parcoords\",\"line\":{\"colorbar\":{\"outlinewidth\":0,\"ticks\":\"\"}}}],\"scatterpolargl\":[{\"type\":\"scatterpolargl\",\"marker\":{\"colorbar\":{\"outlinewidth\":0,\"ticks\":\"\"}}}],\"bar\":[{\"error_x\":{\"color\":\"#2a3f5f\"},\"error_y\":{\"color\":\"#2a3f5f\"},\"marker\":{\"line\":{\"color\":\"#E5ECF6\",\"width\":0.5},\"pattern\":{\"fillmode\":\"overlay\",\"size\":10,\"solidity\":0.2}},\"type\":\"bar\"}],\"scattergeo\":[{\"type\":\"scattergeo\",\"marker\":{\"colorbar\":{\"outlinewidth\":0,\"ticks\":\"\"}}}],\"scatterpolar\":[{\"type\":\"scatterpolar\",\"marker\":{\"colorbar\":{\"outlinewidth\":0,\"ticks\":\"\"}}}],\"histogram\":[{\"marker\":{\"pattern\":{\"fillmode\":\"overlay\",\"size\":10,\"solidity\":0.2}},\"type\":\"histogram\"}],\"scattergl\":[{\"type\":\"scattergl\",\"marker\":{\"colorbar\":{\"outlinewidth\":0,\"ticks\":\"\"}}}],\"scatter3d\":[{\"type\":\"scatter3d\",\"line\":{\"colorbar\":{\"outlinewidth\":0,\"ticks\":\"\"}},\"marker\":{\"colorbar\":{\"outlinewidth\":0,\"ticks\":\"\"}}}],\"scattermapbox\":[{\"type\":\"scattermapbox\",\"marker\":{\"colorbar\":{\"outlinewidth\":0,\"ticks\":\"\"}}}],\"scatterternary\":[{\"type\":\"scatterternary\",\"marker\":{\"colorbar\":{\"outlinewidth\":0,\"ticks\":\"\"}}}],\"scattercarpet\":[{\"type\":\"scattercarpet\",\"marker\":{\"colorbar\":{\"outlinewidth\":0,\"ticks\":\"\"}}}],\"carpet\":[{\"aaxis\":{\"endlinecolor\":\"#2a3f5f\",\"gridcolor\":\"white\",\"linecolor\":\"white\",\"minorgridcolor\":\"white\",\"startlinecolor\":\"#2a3f5f\"},\"baxis\":{\"endlinecolor\":\"#2a3f5f\",\"gridcolor\":\"white\",\"linecolor\":\"white\",\"minorgridcolor\":\"white\",\"startlinecolor\":\"#2a3f5f\"},\"type\":\"carpet\"}],\"table\":[{\"cells\":{\"fill\":{\"color\":\"#EBF0F8\"},\"line\":{\"color\":\"white\"}},\"header\":{\"fill\":{\"color\":\"#C8D4E3\"},\"line\":{\"color\":\"white\"}},\"type\":\"table\"}],\"barpolar\":[{\"marker\":{\"line\":{\"color\":\"#E5ECF6\",\"width\":0.5},\"pattern\":{\"fillmode\":\"overlay\",\"size\":10,\"solidity\":0.2}},\"type\":\"barpolar\"}],\"pie\":[{\"automargin\":true,\"type\":\"pie\"}]},\"layout\":{\"autotypenumbers\":\"strict\",\"colorway\":[\"#636efa\",\"#EF553B\",\"#00cc96\",\"#ab63fa\",\"#FFA15A\",\"#19d3f3\",\"#FF6692\",\"#B6E880\",\"#FF97FF\",\"#FECB52\"],\"font\":{\"color\":\"#2a3f5f\"},\"hovermode\":\"closest\",\"hoverlabel\":{\"align\":\"left\"},\"paper_bgcolor\":\"white\",\"plot_bgcolor\":\"#E5ECF6\",\"polar\":{\"bgcolor\":\"#E5ECF6\",\"angularaxis\":{\"gridcolor\":\"white\",\"linecolor\":\"white\",\"ticks\":\"\"},\"radialaxis\":{\"gridcolor\":\"white\",\"linecolor\":\"white\",\"ticks\":\"\"}},\"ternary\":{\"bgcolor\":\"#E5ECF6\",\"aaxis\":{\"gridcolor\":\"white\",\"linecolor\":\"white\",\"ticks\":\"\"},\"baxis\":{\"gridcolor\":\"white\",\"linecolor\":\"white\",\"ticks\":\"\"},\"caxis\":{\"gridcolor\":\"white\",\"linecolor\":\"white\",\"ticks\":\"\"}},\"coloraxis\":{\"colorbar\":{\"outlinewidth\":0,\"ticks\":\"\"}},\"colorscale\":{\"sequential\":[[0.0,\"#0d0887\"],[0.1111111111111111,\"#46039f\"],[0.2222222222222222,\"#7201a8\"],[0.3333333333333333,\"#9c179e\"],[0.4444444444444444,\"#bd3786\"],[0.5555555555555556,\"#d8576b\"],[0.6666666666666666,\"#ed7953\"],[0.7777777777777778,\"#fb9f3a\"],[0.8888888888888888,\"#fdca26\"],[1.0,\"#f0f921\"]],\"sequentialminus\":[[0.0,\"#0d0887\"],[0.1111111111111111,\"#46039f\"],[0.2222222222222222,\"#7201a8\"],[0.3333333333333333,\"#9c179e\"],[0.4444444444444444,\"#bd3786\"],[0.5555555555555556,\"#d8576b\"],[0.6666666666666666,\"#ed7953\"],[0.7777777777777778,\"#fb9f3a\"],[0.8888888888888888,\"#fdca26\"],[1.0,\"#f0f921\"]],\"diverging\":[[0,\"#8e0152\"],[0.1,\"#c51b7d\"],[0.2,\"#de77ae\"],[0.3,\"#f1b6da\"],[0.4,\"#fde0ef\"],[0.5,\"#f7f7f7\"],[0.6,\"#e6f5d0\"],[0.7,\"#b8e186\"],[0.8,\"#7fbc41\"],[0.9,\"#4d9221\"],[1,\"#276419\"]]},\"xaxis\":{\"gridcolor\":\"white\",\"linecolor\":\"white\",\"ticks\":\"\",\"title\":{\"standoff\":15},\"zerolinecolor\":\"white\",\"automargin\":true,\"zerolinewidth\":2},\"yaxis\":{\"gridcolor\":\"white\",\"linecolor\":\"white\",\"ticks\":\"\",\"title\":{\"standoff\":15},\"zerolinecolor\":\"white\",\"automargin\":true,\"zerolinewidth\":2},\"scene\":{\"xaxis\":{\"backgroundcolor\":\"#E5ECF6\",\"gridcolor\":\"white\",\"linecolor\":\"white\",\"showbackground\":true,\"ticks\":\"\",\"zerolinecolor\":\"white\",\"gridwidth\":2},\"yaxis\":{\"backgroundcolor\":\"#E5ECF6\",\"gridcolor\":\"white\",\"linecolor\":\"white\",\"showbackground\":true,\"ticks\":\"\",\"zerolinecolor\":\"white\",\"gridwidth\":2},\"zaxis\":{\"backgroundcolor\":\"#E5ECF6\",\"gridcolor\":\"white\",\"linecolor\":\"white\",\"showbackground\":true,\"ticks\":\"\",\"zerolinecolor\":\"white\",\"gridwidth\":2}},\"shapedefaults\":{\"line\":{\"color\":\"#2a3f5f\"}},\"annotationdefaults\":{\"arrowcolor\":\"#2a3f5f\",\"arrowhead\":0,\"arrowwidth\":1},\"geo\":{\"bgcolor\":\"white\",\"landcolor\":\"#E5ECF6\",\"subunitcolor\":\"white\",\"showland\":true,\"showlakes\":true,\"lakecolor\":\"white\"},\"title\":{\"x\":0.05},\"mapbox\":{\"style\":\"light\"}}},\"xaxis\":{\"anchor\":\"y\",\"domain\":[0.0,1.0],\"title\":{\"text\":\"Agreement Level\"}},\"yaxis\":{\"anchor\":\"x\",\"domain\":[0.0,1.0],\"title\":{\"text\":\"Count\"}},\"legend\":{\"tracegroupgap\":0},\"title\":{\"text\":\"Support in Video Lectures Distribution\"},\"barmode\":\"relative\"},                        {\"responsive\": true}                    ).then(function(){\n",
              "                            \n",
              "var gd = document.getElementById('54bbf8a9-450b-47fc-b38c-33f4ee510ed8');\n",
              "var x = new MutationObserver(function (mutations, observer) {{\n",
              "        var display = window.getComputedStyle(gd).display;\n",
              "        if (!display || display === 'none') {{\n",
              "            console.log([gd, 'removed!']);\n",
              "            Plotly.purge(gd);\n",
              "            observer.disconnect();\n",
              "        }}\n",
              "}});\n",
              "\n",
              "// Listen for the removal of the full notebook cells\n",
              "var notebookContainer = gd.closest('#notebook-container');\n",
              "if (notebookContainer) {{\n",
              "    x.observe(notebookContainer, {childList: true});\n",
              "}}\n",
              "\n",
              "// Listen for the clearing of the current output cell\n",
              "var outputEl = gd.closest('.output');\n",
              "if (outputEl) {{\n",
              "    x.observe(outputEl, {childList: true});\n",
              "}}\n",
              "\n",
              "                        })                };                            </script>        </div>\n",
              "</body>\n",
              "</html>"
            ]
          },
          "metadata": {}
        }
      ]
    },
    {
      "cell_type": "code",
      "source": [
        "# Check occurrences of StudyHrs categories 7 and 1\n",
        "print(\"Counts for StudyHrs categories:\\n\", subset_data['StudyHrs'].value_counts().sort_index())"
      ],
      "metadata": {
        "colab": {
          "base_uri": "https://localhost:8080/"
        },
        "id": "ZQfc2QotGki2",
        "outputId": "6f3f3ef9-9084-4674-fc76-ed5f49421f54"
      },
      "execution_count": null,
      "outputs": [
        {
          "output_type": "stream",
          "name": "stdout",
          "text": [
            "Counts for StudyHrs categories:\n",
            " StudyHrs\n",
            "2     1\n",
            "3     6\n",
            "4    21\n",
            "5    36\n",
            "6    11\n",
            "7     1\n",
            "Name: count, dtype: int64\n"
          ]
        }
      ]
    },
    {
      "cell_type": "markdown",
      "source": [
        "*Notes*:\n",
        "* *There are no responses with category 1, we can discard it.*\n",
        "* *There is only one student that chose category 7, so we will consider it as part of category 6 for the sake of visualization.*"
      ],
      "metadata": {
        "id": "nn_x0cc1G5jE"
      }
    },
    {
      "cell_type": "code",
      "source": [
        "# Exclude categories 7 and 1\n",
        "valid_studyhrs = subset_data[~subset_data['StudyHrs'].isin([7, 1])]\n",
        "\n",
        "# Verify the remaining categories\n",
        "print(\"Filtered StudyHrs counts:\\n\", valid_studyhrs['StudyHrs'].value_counts().sort_index())\n",
        "\n",
        "# Map new intervals\n",
        "study_hrs_intervals = {\n",
        "    2: \"(40, 50]\",\n",
        "    3: \"(30, 40]\",\n",
        "    4: \"(20, 30]\",\n",
        "    5: \"(10, 20]\",\n",
        "    6: \"[0, 10]\",\n",
        "    7: \"[0, 10]\" # Merge 0 hours with the following interval\n",
        "}\n",
        "\n",
        "# Create a new column with interval mappings\n",
        "subset_data = subset_data.copy()  # Avoid SettingWithCopyWarning\n",
        "subset_data['StudyHrsInterval'] = subset_data['StudyHrs'].astype(int).map(study_hrs_intervals)\n",
        "\n",
        "# Verify the mapping\n",
        "print(subset_data[['StudyHrs', 'StudyHrsInterval']].head())\n",
        "\n",
        "# Histogram with adjusted appearance\n",
        "fig_studyhrs = px.histogram(subset_data,\n",
        "                            x='StudyHrsInterval',\n",
        "                            category_orders={'StudyHrsInterval': [\"[0, 10]\", \"(10, 20]\", \"(20, 30]\", \"(30, 40]\", \"(40, 50]\"]},\n",
        "                            title='Study Hours Distribution',\n",
        "                            labels={'StudyHrsInterval': 'Study Hours Interval', 'count': 'Frequency'},\n",
        "                            text_auto=True)  # Add counts on bars\n",
        "\n",
        "# Adjust bar appearance\n",
        "fig_studyhrs.update_traces(marker_line_width=1.5, marker_line_color=\"black\")  # Add bar borders\n",
        "fig_studyhrs.update_layout(bargap=0)  # Remove space between bars\n",
        "\n",
        "# Update axes titles\n",
        "fig_studyhrs.update_xaxes(title='Study Hours Interval')\n",
        "fig_studyhrs.update_yaxes(title='Frequency')\n",
        "\n",
        "# Show the histogram\n",
        "fig_studyhrs.show()\n"
      ],
      "metadata": {
        "colab": {
          "base_uri": "https://localhost:8080/",
          "height": 785
        },
        "id": "s4YBmPHCETCC",
        "outputId": "d8798d4d-71f7-484a-c98e-5c0d802ec465"
      },
      "execution_count": null,
      "outputs": [
        {
          "output_type": "stream",
          "name": "stdout",
          "text": [
            "Filtered StudyHrs counts:\n",
            " StudyHrs\n",
            "2     1\n",
            "3     6\n",
            "4    21\n",
            "5    36\n",
            "6    11\n",
            "Name: count, dtype: int64\n",
            "   StudyHrs StudyHrsInterval\n",
            "0         6          [0, 10]\n",
            "1         5         (10, 20]\n",
            "2         4         (20, 30]\n",
            "3         6          [0, 10]\n",
            "4         4         (20, 30]\n"
          ]
        },
        {
          "output_type": "display_data",
          "data": {
            "text/html": [
              "<html>\n",
              "<head><meta charset=\"utf-8\" /></head>\n",
              "<body>\n",
              "    <div>            <script src=\"https://cdnjs.cloudflare.com/ajax/libs/mathjax/2.7.5/MathJax.js?config=TeX-AMS-MML_SVG\"></script><script type=\"text/javascript\">if (window.MathJax && window.MathJax.Hub && window.MathJax.Hub.Config) {window.MathJax.Hub.Config({SVG: {font: \"STIX-Web\"}});}</script>                <script type=\"text/javascript\">window.PlotlyConfig = {MathJaxConfig: 'local'};</script>\n",
              "        <script charset=\"utf-8\" src=\"https://cdn.plot.ly/plotly-2.35.2.min.js\"></script>                <div id=\"743f83c5-001a-40dd-9c76-01c56e41d103\" class=\"plotly-graph-div\" style=\"height:525px; width:100%;\"></div>            <script type=\"text/javascript\">                                    window.PLOTLYENV=window.PLOTLYENV || {};                                    if (document.getElementById(\"743f83c5-001a-40dd-9c76-01c56e41d103\")) {                    Plotly.newPlot(                        \"743f83c5-001a-40dd-9c76-01c56e41d103\",                        [{\"alignmentgroup\":\"True\",\"bingroup\":\"x\",\"hovertemplate\":\"Study Hours Interval=%{x}\\u003cbr\\u003ecount=%{y}\\u003cextra\\u003e\\u003c\\u002fextra\\u003e\",\"legendgroup\":\"\",\"marker\":{\"color\":\"#636efa\",\"pattern\":{\"shape\":\"\"},\"line\":{\"color\":\"black\",\"width\":1.5}},\"name\":\"\",\"offsetgroup\":\"\",\"orientation\":\"v\",\"showlegend\":false,\"texttemplate\":\"%{value}\",\"x\":[\"[0, 10]\",\"(10, 20]\",\"(20, 30]\",\"[0, 10]\",\"(20, 30]\",\"(10, 20]\",\"(10, 20]\",\"(10, 20]\",\"(40, 50]\",\"(10, 20]\",\"(10, 20]\",\"(10, 20]\",\"(10, 20]\",\"(20, 30]\",\"(20, 30]\",\"[0, 10]\",\"(10, 20]\",\"(10, 20]\",\"(10, 20]\",\"(10, 20]\",\"(20, 30]\",\"(30, 40]\",\"[0, 10]\",\"(10, 20]\",\"(10, 20]\",\"[0, 10]\",\"(10, 20]\",\"[0, 10]\",\"(20, 30]\",\"(10, 20]\",\"(30, 40]\",\"(10, 20]\",\"(10, 20]\",\"(10, 20]\",\"(10, 20]\",\"(10, 20]\",\"(20, 30]\",\"(10, 20]\",\"(10, 20]\",\"(20, 30]\",\"(10, 20]\",\"(20, 30]\",\"(20, 30]\",\"(10, 20]\",\"(20, 30]\",\"(10, 20]\",\"(20, 30]\",\"(10, 20]\",\"(20, 30]\",\"(20, 30]\",\"(10, 20]\",\"(30, 40]\",\"(10, 20]\",\"[0, 10]\",\"(30, 40]\",\"[0, 10]\",\"(10, 20]\",\"(10, 20]\",\"(10, 20]\",\"(10, 20]\",\"[0, 10]\",\"[0, 10]\",\"(20, 30]\",\"(30, 40]\",\"(20, 30]\",\"(20, 30]\",\"(10, 20]\",\"(20, 30]\",\"(10, 20]\",\"[0, 10]\",\"(20, 30]\",\"(10, 20]\",\"[0, 10]\",\"(30, 40]\",\"(20, 30]\",\"(20, 30]\"],\"xaxis\":\"x\",\"yaxis\":\"y\",\"type\":\"histogram\"}],                        {\"template\":{\"data\":{\"histogram2dcontour\":[{\"type\":\"histogram2dcontour\",\"colorbar\":{\"outlinewidth\":0,\"ticks\":\"\"},\"colorscale\":[[0.0,\"#0d0887\"],[0.1111111111111111,\"#46039f\"],[0.2222222222222222,\"#7201a8\"],[0.3333333333333333,\"#9c179e\"],[0.4444444444444444,\"#bd3786\"],[0.5555555555555556,\"#d8576b\"],[0.6666666666666666,\"#ed7953\"],[0.7777777777777778,\"#fb9f3a\"],[0.8888888888888888,\"#fdca26\"],[1.0,\"#f0f921\"]]}],\"choropleth\":[{\"type\":\"choropleth\",\"colorbar\":{\"outlinewidth\":0,\"ticks\":\"\"}}],\"histogram2d\":[{\"type\":\"histogram2d\",\"colorbar\":{\"outlinewidth\":0,\"ticks\":\"\"},\"colorscale\":[[0.0,\"#0d0887\"],[0.1111111111111111,\"#46039f\"],[0.2222222222222222,\"#7201a8\"],[0.3333333333333333,\"#9c179e\"],[0.4444444444444444,\"#bd3786\"],[0.5555555555555556,\"#d8576b\"],[0.6666666666666666,\"#ed7953\"],[0.7777777777777778,\"#fb9f3a\"],[0.8888888888888888,\"#fdca26\"],[1.0,\"#f0f921\"]]}],\"heatmap\":[{\"type\":\"heatmap\",\"colorbar\":{\"outlinewidth\":0,\"ticks\":\"\"},\"colorscale\":[[0.0,\"#0d0887\"],[0.1111111111111111,\"#46039f\"],[0.2222222222222222,\"#7201a8\"],[0.3333333333333333,\"#9c179e\"],[0.4444444444444444,\"#bd3786\"],[0.5555555555555556,\"#d8576b\"],[0.6666666666666666,\"#ed7953\"],[0.7777777777777778,\"#fb9f3a\"],[0.8888888888888888,\"#fdca26\"],[1.0,\"#f0f921\"]]}],\"heatmapgl\":[{\"type\":\"heatmapgl\",\"colorbar\":{\"outlinewidth\":0,\"ticks\":\"\"},\"colorscale\":[[0.0,\"#0d0887\"],[0.1111111111111111,\"#46039f\"],[0.2222222222222222,\"#7201a8\"],[0.3333333333333333,\"#9c179e\"],[0.4444444444444444,\"#bd3786\"],[0.5555555555555556,\"#d8576b\"],[0.6666666666666666,\"#ed7953\"],[0.7777777777777778,\"#fb9f3a\"],[0.8888888888888888,\"#fdca26\"],[1.0,\"#f0f921\"]]}],\"contourcarpet\":[{\"type\":\"contourcarpet\",\"colorbar\":{\"outlinewidth\":0,\"ticks\":\"\"}}],\"contour\":[{\"type\":\"contour\",\"colorbar\":{\"outlinewidth\":0,\"ticks\":\"\"},\"colorscale\":[[0.0,\"#0d0887\"],[0.1111111111111111,\"#46039f\"],[0.2222222222222222,\"#7201a8\"],[0.3333333333333333,\"#9c179e\"],[0.4444444444444444,\"#bd3786\"],[0.5555555555555556,\"#d8576b\"],[0.6666666666666666,\"#ed7953\"],[0.7777777777777778,\"#fb9f3a\"],[0.8888888888888888,\"#fdca26\"],[1.0,\"#f0f921\"]]}],\"surface\":[{\"type\":\"surface\",\"colorbar\":{\"outlinewidth\":0,\"ticks\":\"\"},\"colorscale\":[[0.0,\"#0d0887\"],[0.1111111111111111,\"#46039f\"],[0.2222222222222222,\"#7201a8\"],[0.3333333333333333,\"#9c179e\"],[0.4444444444444444,\"#bd3786\"],[0.5555555555555556,\"#d8576b\"],[0.6666666666666666,\"#ed7953\"],[0.7777777777777778,\"#fb9f3a\"],[0.8888888888888888,\"#fdca26\"],[1.0,\"#f0f921\"]]}],\"mesh3d\":[{\"type\":\"mesh3d\",\"colorbar\":{\"outlinewidth\":0,\"ticks\":\"\"}}],\"scatter\":[{\"fillpattern\":{\"fillmode\":\"overlay\",\"size\":10,\"solidity\":0.2},\"type\":\"scatter\"}],\"parcoords\":[{\"type\":\"parcoords\",\"line\":{\"colorbar\":{\"outlinewidth\":0,\"ticks\":\"\"}}}],\"scatterpolargl\":[{\"type\":\"scatterpolargl\",\"marker\":{\"colorbar\":{\"outlinewidth\":0,\"ticks\":\"\"}}}],\"bar\":[{\"error_x\":{\"color\":\"#2a3f5f\"},\"error_y\":{\"color\":\"#2a3f5f\"},\"marker\":{\"line\":{\"color\":\"#E5ECF6\",\"width\":0.5},\"pattern\":{\"fillmode\":\"overlay\",\"size\":10,\"solidity\":0.2}},\"type\":\"bar\"}],\"scattergeo\":[{\"type\":\"scattergeo\",\"marker\":{\"colorbar\":{\"outlinewidth\":0,\"ticks\":\"\"}}}],\"scatterpolar\":[{\"type\":\"scatterpolar\",\"marker\":{\"colorbar\":{\"outlinewidth\":0,\"ticks\":\"\"}}}],\"histogram\":[{\"marker\":{\"pattern\":{\"fillmode\":\"overlay\",\"size\":10,\"solidity\":0.2}},\"type\":\"histogram\"}],\"scattergl\":[{\"type\":\"scattergl\",\"marker\":{\"colorbar\":{\"outlinewidth\":0,\"ticks\":\"\"}}}],\"scatter3d\":[{\"type\":\"scatter3d\",\"line\":{\"colorbar\":{\"outlinewidth\":0,\"ticks\":\"\"}},\"marker\":{\"colorbar\":{\"outlinewidth\":0,\"ticks\":\"\"}}}],\"scattermapbox\":[{\"type\":\"scattermapbox\",\"marker\":{\"colorbar\":{\"outlinewidth\":0,\"ticks\":\"\"}}}],\"scatterternary\":[{\"type\":\"scatterternary\",\"marker\":{\"colorbar\":{\"outlinewidth\":0,\"ticks\":\"\"}}}],\"scattercarpet\":[{\"type\":\"scattercarpet\",\"marker\":{\"colorbar\":{\"outlinewidth\":0,\"ticks\":\"\"}}}],\"carpet\":[{\"aaxis\":{\"endlinecolor\":\"#2a3f5f\",\"gridcolor\":\"white\",\"linecolor\":\"white\",\"minorgridcolor\":\"white\",\"startlinecolor\":\"#2a3f5f\"},\"baxis\":{\"endlinecolor\":\"#2a3f5f\",\"gridcolor\":\"white\",\"linecolor\":\"white\",\"minorgridcolor\":\"white\",\"startlinecolor\":\"#2a3f5f\"},\"type\":\"carpet\"}],\"table\":[{\"cells\":{\"fill\":{\"color\":\"#EBF0F8\"},\"line\":{\"color\":\"white\"}},\"header\":{\"fill\":{\"color\":\"#C8D4E3\"},\"line\":{\"color\":\"white\"}},\"type\":\"table\"}],\"barpolar\":[{\"marker\":{\"line\":{\"color\":\"#E5ECF6\",\"width\":0.5},\"pattern\":{\"fillmode\":\"overlay\",\"size\":10,\"solidity\":0.2}},\"type\":\"barpolar\"}],\"pie\":[{\"automargin\":true,\"type\":\"pie\"}]},\"layout\":{\"autotypenumbers\":\"strict\",\"colorway\":[\"#636efa\",\"#EF553B\",\"#00cc96\",\"#ab63fa\",\"#FFA15A\",\"#19d3f3\",\"#FF6692\",\"#B6E880\",\"#FF97FF\",\"#FECB52\"],\"font\":{\"color\":\"#2a3f5f\"},\"hovermode\":\"closest\",\"hoverlabel\":{\"align\":\"left\"},\"paper_bgcolor\":\"white\",\"plot_bgcolor\":\"#E5ECF6\",\"polar\":{\"bgcolor\":\"#E5ECF6\",\"angularaxis\":{\"gridcolor\":\"white\",\"linecolor\":\"white\",\"ticks\":\"\"},\"radialaxis\":{\"gridcolor\":\"white\",\"linecolor\":\"white\",\"ticks\":\"\"}},\"ternary\":{\"bgcolor\":\"#E5ECF6\",\"aaxis\":{\"gridcolor\":\"white\",\"linecolor\":\"white\",\"ticks\":\"\"},\"baxis\":{\"gridcolor\":\"white\",\"linecolor\":\"white\",\"ticks\":\"\"},\"caxis\":{\"gridcolor\":\"white\",\"linecolor\":\"white\",\"ticks\":\"\"}},\"coloraxis\":{\"colorbar\":{\"outlinewidth\":0,\"ticks\":\"\"}},\"colorscale\":{\"sequential\":[[0.0,\"#0d0887\"],[0.1111111111111111,\"#46039f\"],[0.2222222222222222,\"#7201a8\"],[0.3333333333333333,\"#9c179e\"],[0.4444444444444444,\"#bd3786\"],[0.5555555555555556,\"#d8576b\"],[0.6666666666666666,\"#ed7953\"],[0.7777777777777778,\"#fb9f3a\"],[0.8888888888888888,\"#fdca26\"],[1.0,\"#f0f921\"]],\"sequentialminus\":[[0.0,\"#0d0887\"],[0.1111111111111111,\"#46039f\"],[0.2222222222222222,\"#7201a8\"],[0.3333333333333333,\"#9c179e\"],[0.4444444444444444,\"#bd3786\"],[0.5555555555555556,\"#d8576b\"],[0.6666666666666666,\"#ed7953\"],[0.7777777777777778,\"#fb9f3a\"],[0.8888888888888888,\"#fdca26\"],[1.0,\"#f0f921\"]],\"diverging\":[[0,\"#8e0152\"],[0.1,\"#c51b7d\"],[0.2,\"#de77ae\"],[0.3,\"#f1b6da\"],[0.4,\"#fde0ef\"],[0.5,\"#f7f7f7\"],[0.6,\"#e6f5d0\"],[0.7,\"#b8e186\"],[0.8,\"#7fbc41\"],[0.9,\"#4d9221\"],[1,\"#276419\"]]},\"xaxis\":{\"gridcolor\":\"white\",\"linecolor\":\"white\",\"ticks\":\"\",\"title\":{\"standoff\":15},\"zerolinecolor\":\"white\",\"automargin\":true,\"zerolinewidth\":2},\"yaxis\":{\"gridcolor\":\"white\",\"linecolor\":\"white\",\"ticks\":\"\",\"title\":{\"standoff\":15},\"zerolinecolor\":\"white\",\"automargin\":true,\"zerolinewidth\":2},\"scene\":{\"xaxis\":{\"backgroundcolor\":\"#E5ECF6\",\"gridcolor\":\"white\",\"linecolor\":\"white\",\"showbackground\":true,\"ticks\":\"\",\"zerolinecolor\":\"white\",\"gridwidth\":2},\"yaxis\":{\"backgroundcolor\":\"#E5ECF6\",\"gridcolor\":\"white\",\"linecolor\":\"white\",\"showbackground\":true,\"ticks\":\"\",\"zerolinecolor\":\"white\",\"gridwidth\":2},\"zaxis\":{\"backgroundcolor\":\"#E5ECF6\",\"gridcolor\":\"white\",\"linecolor\":\"white\",\"showbackground\":true,\"ticks\":\"\",\"zerolinecolor\":\"white\",\"gridwidth\":2}},\"shapedefaults\":{\"line\":{\"color\":\"#2a3f5f\"}},\"annotationdefaults\":{\"arrowcolor\":\"#2a3f5f\",\"arrowhead\":0,\"arrowwidth\":1},\"geo\":{\"bgcolor\":\"white\",\"landcolor\":\"#E5ECF6\",\"subunitcolor\":\"white\",\"showland\":true,\"showlakes\":true,\"lakecolor\":\"white\"},\"title\":{\"x\":0.05},\"mapbox\":{\"style\":\"light\"}}},\"xaxis\":{\"anchor\":\"y\",\"domain\":[0.0,1.0],\"title\":{\"text\":\"Study Hours Interval\"},\"categoryorder\":\"array\",\"categoryarray\":[\"[0, 10]\",\"(10, 20]\",\"(20, 30]\",\"(30, 40]\",\"(40, 50]\"]},\"yaxis\":{\"anchor\":\"x\",\"domain\":[0.0,1.0],\"title\":{\"text\":\"Frequency\"}},\"legend\":{\"tracegroupgap\":0},\"title\":{\"text\":\"Study Hours Distribution\"},\"barmode\":\"relative\",\"bargap\":0},                        {\"responsive\": true}                    ).then(function(){\n",
              "                            \n",
              "var gd = document.getElementById('743f83c5-001a-40dd-9c76-01c56e41d103');\n",
              "var x = new MutationObserver(function (mutations, observer) {{\n",
              "        var display = window.getComputedStyle(gd).display;\n",
              "        if (!display || display === 'none') {{\n",
              "            console.log([gd, 'removed!']);\n",
              "            Plotly.purge(gd);\n",
              "            observer.disconnect();\n",
              "        }}\n",
              "}});\n",
              "\n",
              "// Listen for the removal of the full notebook cells\n",
              "var notebookContainer = gd.closest('#notebook-container');\n",
              "if (notebookContainer) {{\n",
              "    x.observe(notebookContainer, {childList: true});\n",
              "}}\n",
              "\n",
              "// Listen for the clearing of the current output cell\n",
              "var outputEl = gd.closest('.output');\n",
              "if (outputEl) {{\n",
              "    x.observe(outputEl, {childList: true});\n",
              "}}\n",
              "\n",
              "                        })                };                            </script>        </div>\n",
              "</body>\n",
              "</html>"
            ]
          },
          "metadata": {}
        }
      ]
    },
    {
      "cell_type": "code",
      "source": [
        "# Estimated descriptive statistics for \"Study hours\"\n",
        "interval_midpoints = {\n",
        "    \"[0, 10]\": 5,\n",
        "    \"(10, 20]\": 15,\n",
        "    \"(20, 30]\": 25,\n",
        "    \"(30, 40]\": 35,\n",
        "    \"(40, 50]\": 45\n",
        "}\n",
        "\n",
        "# Map the midpoints to the StudyHrsInterval column\n",
        "subset_data['StudyHrsMidpoint'] = subset_data['StudyHrsInterval'].map(interval_midpoints)\n",
        "\n",
        "# Calculate statistics\n",
        "mean_studyhrs = subset_data['StudyHrsMidpoint'].mean()\n",
        "std_studyhrs = subset_data['StudyHrsMidpoint'].std()\n",
        "q1_studyhrs = subset_data['StudyHrsMidpoint'].quantile(0.25)\n",
        "median_studyhrs = subset_data['StudyHrsMidpoint'].median()\n",
        "q3_studyhrs = subset_data['StudyHrsMidpoint'].quantile(0.75)\n",
        "\n",
        "# Print the results\n",
        "print(f\"Mean Study Hours: {mean_studyhrs}\")\n",
        "print(f\"Standard Deviation: {std_studyhrs}\")\n",
        "print(f\"Q1 Study Hours: {q1_studyhrs}\")\n",
        "print(f\"Median Study Hours: {median_studyhrs}\")\n",
        "print(f\"Q3 Study Hours: {q3_studyhrs}\")\n"
      ],
      "metadata": {
        "colab": {
          "base_uri": "https://localhost:8080/"
        },
        "id": "EelPC76KPakP",
        "outputId": "405d1d9d-24ff-4da7-b188-73f04c33cee0"
      },
      "execution_count": null,
      "outputs": [
        {
          "output_type": "stream",
          "name": "stdout",
          "text": [
            "Mean Study Hours: 18.157894736842106\n",
            "Standard Deviation: 8.825799501580876\n",
            "Q1 Study Hours: 15.0\n",
            "Median Study Hours: 15.0\n",
            "Q3 Study Hours: 25.0\n"
          ]
        }
      ]
    },
    {
      "cell_type": "markdown",
      "source": [
        "**Observations:**\n",
        "\n",
        "* **Employment** (`Employment`):\n",
        "  * 1: 57 students (majority; likely \"full-time employment\").\n",
        "  * 2: 13 students (likely \"part-time employment\").\n",
        "  * 3: 6 students (likely \"unemployed\"). <br>\n",
        "  * **A large majority of students are full-time employees, which may affect the statistical analysis.**\n",
        "\n",
        "* **Motivation to pass** (`MotivPass`): Most responses are low (1, 2, 3), indicating that most of the students disagree with the statement *'My main motivation is to pass that part rather than learn a lot or to get a high grade'*.\n",
        "\n",
        "* **Video support** (`SpprtVideo`): Most responses are high (7, 6, 5), indicating positive experiences with video lectures. **This suggest strong agreement about the usefulness of video lectures**.\n",
        "\n",
        "* **Study Hours** (`StudyHrs`):\n",
        "  * In average, the students studied 18,15 hours per week.\n",
        "  * 50% of the students study between 25-25 hours weekly.\n",
        "\n",
        "### Q6.1: Working vs. non-working students, regarding the number of hours per week spent studying"
      ],
      "metadata": {
        "id": "CGBv1GEvzC_8"
      }
    },
    {
      "cell_type": "code",
      "source": [
        "# Q6.1: Working vs not working and study hours -> Mann-Whitney U Test\n",
        "\n",
        "# We group full-time and part-time workers as \"working students\"\n",
        "subset_data['EmploymentStatus'] = np.where(subset_data['Employment'].isin([1, 2]), 1, 0)\n",
        "# Check group sizes\n",
        "print(\"Group sizes after transformation:\")\n",
        "print(subset_data['EmploymentStatus'].value_counts())\n",
        "\n",
        "# Split study hours by group\n",
        "working_hours = subset_data.loc[subset_data['EmploymentStatus'] == 1, 'StudyHrs']\n",
        "non_working_hours = subset_data.loc[subset_data['EmploymentStatus'] == 0, 'StudyHrs']\n",
        "\n",
        "# Perform the Mann-Whitney U Test\n",
        "test_stat, p_value = mannwhitneyu(working_hours, non_working_hours, alternative='two-sided')\n",
        "print(\"Mann-Whitney U Test Results:\")\n",
        "print(f\"Test Statistic: {test_stat}\")\n",
        "print(f\"P-value: {p_value}\")\n",
        "\n",
        "# Calculate descriptive statistics for each group\n",
        "study_hrs_distribution = subset_data.groupby(['EmploymentStatus', 'StudyHrsInterval']).size().reset_index(name='Frequency')\n",
        "# Calculate median interval for each group\n",
        "median_intervals = subset_data.groupby('EmploymentStatus')['StudyHrs'].median().map(study_hrs_intervals)\n",
        "# Display results\n",
        "print(\"Distribution of Study Hours by Group:\\n\", study_hrs_distribution)\n",
        "print(\"\\nMedian Study Hours Interval by Group:\\n\", median_intervals)\n"
      ],
      "metadata": {
        "colab": {
          "base_uri": "https://localhost:8080/"
        },
        "id": "g8xGwGHjVaFY",
        "outputId": "696222f0-de1d-4788-ee0f-35bf62bf9115"
      },
      "execution_count": null,
      "outputs": [
        {
          "output_type": "stream",
          "name": "stdout",
          "text": [
            "Group sizes after transformation:\n",
            "EmploymentStatus\n",
            "1    70\n",
            "0     6\n",
            "Name: count, dtype: int64\n",
            "Mann-Whitney U Test Results:\n",
            "Test Statistic: 321.5\n",
            "P-value: 0.02182692664051135\n",
            "Distribution of Study Hours by Group:\n",
            "    EmploymentStatus StudyHrsInterval  Frequency\n",
            "0                 0         (10, 20]          1\n",
            "1                 0         (20, 30]          4\n",
            "2                 0         (40, 50]          1\n",
            "3                 1         (10, 20]         35\n",
            "4                 1         (20, 30]         17\n",
            "5                 1         (30, 40]          6\n",
            "6                 1          [0, 10]         12\n",
            "\n",
            "Median Study Hours Interval by Group:\n",
            " EmploymentStatus\n",
            "0    (20, 30]\n",
            "1    (10, 20]\n",
            "Name: StudyHrs, dtype: object\n"
          ]
        }
      ]
    },
    {
      "cell_type": "markdown",
      "source": [
        "**Test results:**\n",
        "* *Group Sizes*:\n",
        "  * Working Students: 70 (very large group).\n",
        "  * Non-Working Students: 6 (very small group).\n",
        "  * The small size of the \"Non-Working\" group can make statistical inference less robust because tests like the Mann-Whitney U are sensitive to unbalanced group sizes.\n",
        "\n",
        "* *Mann-Whitney U Test Results*:\n",
        "  * U Statistic: 321.5\n",
        "  * P-value: 0.0218 (significant at a 0.05 level).\n",
        "  * Interpretation: Since the p-value is below 0.05, we reject the null hypothesis that there is no difference in study hours between working and non-working students. **This suggests there is a statistically significant difference in weekly study hours between these groups.**\n",
        "\n",
        "* *Descriptive Statistics*:\n",
        "  * Non-working students (0):\n",
        "    * Most students (4 out of 6) fall in the (20, 30] interval.\n",
        "    * There’s 1 student each in (10, 20] and (40, 50] intervals.\n",
        "    * Median is (20, 30].\n",
        "  * Working students (1):\n",
        "    * Most students (35 out of 70) are in the (10, 20] interval.\n",
        "    * Smaller groups are distributed across (20, 30], (30, 40], and [0, 10].\n",
        "    * Median is (10, 20].\n",
        "  * Non-working students tend to spend more time studying than working students, as their median study hours fall in a higher interval.\n",
        "\n",
        "### Q6.2: Relation between weekly hours of study and motivation\n"
      ],
      "metadata": {
        "id": "3PuqE-WGjyrT"
      }
    },
    {
      "cell_type": "code",
      "source": [
        "# Q6.2: Relation between Study hours and Motivation to Pass -> Spearman's Rank Correlation\n",
        "# Ensure MotivPass is treated as ordinal\n",
        "subset_data['MotivPass'] = subset_data['MotivPass'].astype(int)\n",
        "\n",
        "# Calculate Spearman's correlation\n",
        "correlation, p_value = spearmanr(subset_data['StudyHrsMidpoint'], subset_data['MotivPass'])\n",
        "\n",
        "# Display results\n",
        "print(\"Spearman's Rank Correlation Results:\")\n",
        "print(f\"Correlation Coefficient: {correlation}\")\n",
        "print(f\"P-value: {p_value}\")\n"
      ],
      "metadata": {
        "id": "-Me8LPtDnNOG",
        "colab": {
          "base_uri": "https://localhost:8080/"
        },
        "outputId": "cf7c2d10-07b6-4109-a13e-26a3e110e47d"
      },
      "execution_count": null,
      "outputs": [
        {
          "output_type": "stream",
          "name": "stdout",
          "text": [
            "Spearman's Rank Correlation Results:\n",
            "Correlation Coefficient: -0.13440001936732046\n",
            "P-value: 0.24706226643922913\n"
          ]
        }
      ]
    },
    {
      "cell_type": "code",
      "source": [
        "# Simulated data (replace with your subset_data)\n",
        "x = subset_data['StudyHrsMidpoint']\n",
        "y = subset_data['MotivPass']\n",
        "\n",
        "# Create the combined plot with jittered points and box plot\n",
        "fig = go.Figure()\n",
        "\n",
        "# Add jittered scatter plot\n",
        "fig.add_trace(go.Box(\n",
        "    x=x, y=y,\n",
        "    boxpoints='all',  # Shows all points\n",
        "    jitter=0.3,       # Add slight jitter to avoid overlap\n",
        "    pointpos=-1.8,    # Spread the points slightly to the left\n",
        "    marker=dict(color='blue', opacity=0.6),\n",
        "    line=dict(color='black'),\n",
        "    name='Study Hours vs Motivation'\n",
        "))\n",
        "\n",
        "# Update layout\n",
        "fig.update_layout(\n",
        "    title=\"Study Hours vs Motivation to Pass\",\n",
        "    xaxis_title=\"Study Hours (Midpoints)\",\n",
        "    yaxis_title=\"Motivation to Pass (1-7)\",\n",
        "    template='plotly_white'\n",
        ")\n",
        "\n",
        "fig.show()"
      ],
      "metadata": {
        "colab": {
          "base_uri": "https://localhost:8080/",
          "height": 542
        },
        "id": "MpkPoP5cpVB9",
        "outputId": "4ae2cffb-203c-4011-f39f-6af04a8284d4"
      },
      "execution_count": null,
      "outputs": [
        {
          "output_type": "display_data",
          "data": {
            "text/html": [
              "<html>\n",
              "<head><meta charset=\"utf-8\" /></head>\n",
              "<body>\n",
              "    <div>            <script src=\"https://cdnjs.cloudflare.com/ajax/libs/mathjax/2.7.5/MathJax.js?config=TeX-AMS-MML_SVG\"></script><script type=\"text/javascript\">if (window.MathJax && window.MathJax.Hub && window.MathJax.Hub.Config) {window.MathJax.Hub.Config({SVG: {font: \"STIX-Web\"}});}</script>                <script type=\"text/javascript\">window.PlotlyConfig = {MathJaxConfig: 'local'};</script>\n",
              "        <script charset=\"utf-8\" src=\"https://cdn.plot.ly/plotly-2.35.2.min.js\"></script>                <div id=\"edf3c020-d747-404b-a7b8-152027c29092\" class=\"plotly-graph-div\" style=\"height:525px; width:100%;\"></div>            <script type=\"text/javascript\">                                    window.PLOTLYENV=window.PLOTLYENV || {};                                    if (document.getElementById(\"edf3c020-d747-404b-a7b8-152027c29092\")) {                    Plotly.newPlot(                        \"edf3c020-d747-404b-a7b8-152027c29092\",                        [{\"boxpoints\":\"all\",\"jitter\":0.3,\"line\":{\"color\":\"black\"},\"marker\":{\"color\":\"blue\",\"opacity\":0.6},\"name\":\"Study Hours vs Motivation\",\"pointpos\":-1.8,\"x\":[5,15,25,5,25,15,15,15,45,15,15,15,15,25,25,5,15,15,15,15,25,35,5,15,15,5,15,5,25,15,35,15,15,15,15,15,25,15,15,25,15,25,25,15,25,15,25,15,25,25,15,35,15,5,35,5,15,15,15,15,5,5,25,35,25,25,15,25,15,5,25,15,5,35,25,25],\"y\":[3,2,4,3,3,2,3,2,1,3,3,3,1,2,3,2,1,6,2,3,4,1,5,5,7,1,2,1,1,3,4,2,3,1,3,2,6,3,5,2,5,1,4,3,2,2,2,5,2,2,3,3,2,2,3,6,2,5,4,5,2,7,3,1,1,6,1,6,2,6,3,4,1,2,1,1],\"type\":\"box\"}],                        {\"template\":{\"data\":{\"barpolar\":[{\"marker\":{\"line\":{\"color\":\"white\",\"width\":0.5},\"pattern\":{\"fillmode\":\"overlay\",\"size\":10,\"solidity\":0.2}},\"type\":\"barpolar\"}],\"bar\":[{\"error_x\":{\"color\":\"#2a3f5f\"},\"error_y\":{\"color\":\"#2a3f5f\"},\"marker\":{\"line\":{\"color\":\"white\",\"width\":0.5},\"pattern\":{\"fillmode\":\"overlay\",\"size\":10,\"solidity\":0.2}},\"type\":\"bar\"}],\"carpet\":[{\"aaxis\":{\"endlinecolor\":\"#2a3f5f\",\"gridcolor\":\"#C8D4E3\",\"linecolor\":\"#C8D4E3\",\"minorgridcolor\":\"#C8D4E3\",\"startlinecolor\":\"#2a3f5f\"},\"baxis\":{\"endlinecolor\":\"#2a3f5f\",\"gridcolor\":\"#C8D4E3\",\"linecolor\":\"#C8D4E3\",\"minorgridcolor\":\"#C8D4E3\",\"startlinecolor\":\"#2a3f5f\"},\"type\":\"carpet\"}],\"choropleth\":[{\"colorbar\":{\"outlinewidth\":0,\"ticks\":\"\"},\"type\":\"choropleth\"}],\"contourcarpet\":[{\"colorbar\":{\"outlinewidth\":0,\"ticks\":\"\"},\"type\":\"contourcarpet\"}],\"contour\":[{\"colorbar\":{\"outlinewidth\":0,\"ticks\":\"\"},\"colorscale\":[[0.0,\"#0d0887\"],[0.1111111111111111,\"#46039f\"],[0.2222222222222222,\"#7201a8\"],[0.3333333333333333,\"#9c179e\"],[0.4444444444444444,\"#bd3786\"],[0.5555555555555556,\"#d8576b\"],[0.6666666666666666,\"#ed7953\"],[0.7777777777777778,\"#fb9f3a\"],[0.8888888888888888,\"#fdca26\"],[1.0,\"#f0f921\"]],\"type\":\"contour\"}],\"heatmapgl\":[{\"colorbar\":{\"outlinewidth\":0,\"ticks\":\"\"},\"colorscale\":[[0.0,\"#0d0887\"],[0.1111111111111111,\"#46039f\"],[0.2222222222222222,\"#7201a8\"],[0.3333333333333333,\"#9c179e\"],[0.4444444444444444,\"#bd3786\"],[0.5555555555555556,\"#d8576b\"],[0.6666666666666666,\"#ed7953\"],[0.7777777777777778,\"#fb9f3a\"],[0.8888888888888888,\"#fdca26\"],[1.0,\"#f0f921\"]],\"type\":\"heatmapgl\"}],\"heatmap\":[{\"colorbar\":{\"outlinewidth\":0,\"ticks\":\"\"},\"colorscale\":[[0.0,\"#0d0887\"],[0.1111111111111111,\"#46039f\"],[0.2222222222222222,\"#7201a8\"],[0.3333333333333333,\"#9c179e\"],[0.4444444444444444,\"#bd3786\"],[0.5555555555555556,\"#d8576b\"],[0.6666666666666666,\"#ed7953\"],[0.7777777777777778,\"#fb9f3a\"],[0.8888888888888888,\"#fdca26\"],[1.0,\"#f0f921\"]],\"type\":\"heatmap\"}],\"histogram2dcontour\":[{\"colorbar\":{\"outlinewidth\":0,\"ticks\":\"\"},\"colorscale\":[[0.0,\"#0d0887\"],[0.1111111111111111,\"#46039f\"],[0.2222222222222222,\"#7201a8\"],[0.3333333333333333,\"#9c179e\"],[0.4444444444444444,\"#bd3786\"],[0.5555555555555556,\"#d8576b\"],[0.6666666666666666,\"#ed7953\"],[0.7777777777777778,\"#fb9f3a\"],[0.8888888888888888,\"#fdca26\"],[1.0,\"#f0f921\"]],\"type\":\"histogram2dcontour\"}],\"histogram2d\":[{\"colorbar\":{\"outlinewidth\":0,\"ticks\":\"\"},\"colorscale\":[[0.0,\"#0d0887\"],[0.1111111111111111,\"#46039f\"],[0.2222222222222222,\"#7201a8\"],[0.3333333333333333,\"#9c179e\"],[0.4444444444444444,\"#bd3786\"],[0.5555555555555556,\"#d8576b\"],[0.6666666666666666,\"#ed7953\"],[0.7777777777777778,\"#fb9f3a\"],[0.8888888888888888,\"#fdca26\"],[1.0,\"#f0f921\"]],\"type\":\"histogram2d\"}],\"histogram\":[{\"marker\":{\"pattern\":{\"fillmode\":\"overlay\",\"size\":10,\"solidity\":0.2}},\"type\":\"histogram\"}],\"mesh3d\":[{\"colorbar\":{\"outlinewidth\":0,\"ticks\":\"\"},\"type\":\"mesh3d\"}],\"parcoords\":[{\"line\":{\"colorbar\":{\"outlinewidth\":0,\"ticks\":\"\"}},\"type\":\"parcoords\"}],\"pie\":[{\"automargin\":true,\"type\":\"pie\"}],\"scatter3d\":[{\"line\":{\"colorbar\":{\"outlinewidth\":0,\"ticks\":\"\"}},\"marker\":{\"colorbar\":{\"outlinewidth\":0,\"ticks\":\"\"}},\"type\":\"scatter3d\"}],\"scattercarpet\":[{\"marker\":{\"colorbar\":{\"outlinewidth\":0,\"ticks\":\"\"}},\"type\":\"scattercarpet\"}],\"scattergeo\":[{\"marker\":{\"colorbar\":{\"outlinewidth\":0,\"ticks\":\"\"}},\"type\":\"scattergeo\"}],\"scattergl\":[{\"marker\":{\"colorbar\":{\"outlinewidth\":0,\"ticks\":\"\"}},\"type\":\"scattergl\"}],\"scattermapbox\":[{\"marker\":{\"colorbar\":{\"outlinewidth\":0,\"ticks\":\"\"}},\"type\":\"scattermapbox\"}],\"scatterpolargl\":[{\"marker\":{\"colorbar\":{\"outlinewidth\":0,\"ticks\":\"\"}},\"type\":\"scatterpolargl\"}],\"scatterpolar\":[{\"marker\":{\"colorbar\":{\"outlinewidth\":0,\"ticks\":\"\"}},\"type\":\"scatterpolar\"}],\"scatter\":[{\"fillpattern\":{\"fillmode\":\"overlay\",\"size\":10,\"solidity\":0.2},\"type\":\"scatter\"}],\"scatterternary\":[{\"marker\":{\"colorbar\":{\"outlinewidth\":0,\"ticks\":\"\"}},\"type\":\"scatterternary\"}],\"surface\":[{\"colorbar\":{\"outlinewidth\":0,\"ticks\":\"\"},\"colorscale\":[[0.0,\"#0d0887\"],[0.1111111111111111,\"#46039f\"],[0.2222222222222222,\"#7201a8\"],[0.3333333333333333,\"#9c179e\"],[0.4444444444444444,\"#bd3786\"],[0.5555555555555556,\"#d8576b\"],[0.6666666666666666,\"#ed7953\"],[0.7777777777777778,\"#fb9f3a\"],[0.8888888888888888,\"#fdca26\"],[1.0,\"#f0f921\"]],\"type\":\"surface\"}],\"table\":[{\"cells\":{\"fill\":{\"color\":\"#EBF0F8\"},\"line\":{\"color\":\"white\"}},\"header\":{\"fill\":{\"color\":\"#C8D4E3\"},\"line\":{\"color\":\"white\"}},\"type\":\"table\"}]},\"layout\":{\"annotationdefaults\":{\"arrowcolor\":\"#2a3f5f\",\"arrowhead\":0,\"arrowwidth\":1},\"autotypenumbers\":\"strict\",\"coloraxis\":{\"colorbar\":{\"outlinewidth\":0,\"ticks\":\"\"}},\"colorscale\":{\"diverging\":[[0,\"#8e0152\"],[0.1,\"#c51b7d\"],[0.2,\"#de77ae\"],[0.3,\"#f1b6da\"],[0.4,\"#fde0ef\"],[0.5,\"#f7f7f7\"],[0.6,\"#e6f5d0\"],[0.7,\"#b8e186\"],[0.8,\"#7fbc41\"],[0.9,\"#4d9221\"],[1,\"#276419\"]],\"sequential\":[[0.0,\"#0d0887\"],[0.1111111111111111,\"#46039f\"],[0.2222222222222222,\"#7201a8\"],[0.3333333333333333,\"#9c179e\"],[0.4444444444444444,\"#bd3786\"],[0.5555555555555556,\"#d8576b\"],[0.6666666666666666,\"#ed7953\"],[0.7777777777777778,\"#fb9f3a\"],[0.8888888888888888,\"#fdca26\"],[1.0,\"#f0f921\"]],\"sequentialminus\":[[0.0,\"#0d0887\"],[0.1111111111111111,\"#46039f\"],[0.2222222222222222,\"#7201a8\"],[0.3333333333333333,\"#9c179e\"],[0.4444444444444444,\"#bd3786\"],[0.5555555555555556,\"#d8576b\"],[0.6666666666666666,\"#ed7953\"],[0.7777777777777778,\"#fb9f3a\"],[0.8888888888888888,\"#fdca26\"],[1.0,\"#f0f921\"]]},\"colorway\":[\"#636efa\",\"#EF553B\",\"#00cc96\",\"#ab63fa\",\"#FFA15A\",\"#19d3f3\",\"#FF6692\",\"#B6E880\",\"#FF97FF\",\"#FECB52\"],\"font\":{\"color\":\"#2a3f5f\"},\"geo\":{\"bgcolor\":\"white\",\"lakecolor\":\"white\",\"landcolor\":\"white\",\"showlakes\":true,\"showland\":true,\"subunitcolor\":\"#C8D4E3\"},\"hoverlabel\":{\"align\":\"left\"},\"hovermode\":\"closest\",\"mapbox\":{\"style\":\"light\"},\"paper_bgcolor\":\"white\",\"plot_bgcolor\":\"white\",\"polar\":{\"angularaxis\":{\"gridcolor\":\"#EBF0F8\",\"linecolor\":\"#EBF0F8\",\"ticks\":\"\"},\"bgcolor\":\"white\",\"radialaxis\":{\"gridcolor\":\"#EBF0F8\",\"linecolor\":\"#EBF0F8\",\"ticks\":\"\"}},\"scene\":{\"xaxis\":{\"backgroundcolor\":\"white\",\"gridcolor\":\"#DFE8F3\",\"gridwidth\":2,\"linecolor\":\"#EBF0F8\",\"showbackground\":true,\"ticks\":\"\",\"zerolinecolor\":\"#EBF0F8\"},\"yaxis\":{\"backgroundcolor\":\"white\",\"gridcolor\":\"#DFE8F3\",\"gridwidth\":2,\"linecolor\":\"#EBF0F8\",\"showbackground\":true,\"ticks\":\"\",\"zerolinecolor\":\"#EBF0F8\"},\"zaxis\":{\"backgroundcolor\":\"white\",\"gridcolor\":\"#DFE8F3\",\"gridwidth\":2,\"linecolor\":\"#EBF0F8\",\"showbackground\":true,\"ticks\":\"\",\"zerolinecolor\":\"#EBF0F8\"}},\"shapedefaults\":{\"line\":{\"color\":\"#2a3f5f\"}},\"ternary\":{\"aaxis\":{\"gridcolor\":\"#DFE8F3\",\"linecolor\":\"#A2B1C6\",\"ticks\":\"\"},\"baxis\":{\"gridcolor\":\"#DFE8F3\",\"linecolor\":\"#A2B1C6\",\"ticks\":\"\"},\"bgcolor\":\"white\",\"caxis\":{\"gridcolor\":\"#DFE8F3\",\"linecolor\":\"#A2B1C6\",\"ticks\":\"\"}},\"title\":{\"x\":0.05},\"xaxis\":{\"automargin\":true,\"gridcolor\":\"#EBF0F8\",\"linecolor\":\"#EBF0F8\",\"ticks\":\"\",\"title\":{\"standoff\":15},\"zerolinecolor\":\"#EBF0F8\",\"zerolinewidth\":2},\"yaxis\":{\"automargin\":true,\"gridcolor\":\"#EBF0F8\",\"linecolor\":\"#EBF0F8\",\"ticks\":\"\",\"title\":{\"standoff\":15},\"zerolinecolor\":\"#EBF0F8\",\"zerolinewidth\":2}}},\"title\":{\"text\":\"Study Hours vs Motivation to Pass\"},\"xaxis\":{\"title\":{\"text\":\"Study Hours (Midpoints)\"}},\"yaxis\":{\"title\":{\"text\":\"Motivation to Pass (1-7)\"}}},                        {\"responsive\": true}                    ).then(function(){\n",
              "                            \n",
              "var gd = document.getElementById('edf3c020-d747-404b-a7b8-152027c29092');\n",
              "var x = new MutationObserver(function (mutations, observer) {{\n",
              "        var display = window.getComputedStyle(gd).display;\n",
              "        if (!display || display === 'none') {{\n",
              "            console.log([gd, 'removed!']);\n",
              "            Plotly.purge(gd);\n",
              "            observer.disconnect();\n",
              "        }}\n",
              "}});\n",
              "\n",
              "// Listen for the removal of the full notebook cells\n",
              "var notebookContainer = gd.closest('#notebook-container');\n",
              "if (notebookContainer) {{\n",
              "    x.observe(notebookContainer, {childList: true});\n",
              "}}\n",
              "\n",
              "// Listen for the clearing of the current output cell\n",
              "var outputEl = gd.closest('.output');\n",
              "if (outputEl) {{\n",
              "    x.observe(outputEl, {childList: true});\n",
              "}}\n",
              "\n",
              "                        })                };                            </script>        </div>\n",
              "</body>\n",
              "</html>"
            ]
          },
          "metadata": {}
        }
      ]
    },
    {
      "cell_type": "markdown",
      "source": [
        "**Test results:**\n",
        "- Since we have p-value = 0.247 > 0.05, there is no statistically significant relationship between weekly study hours and motivation to pass. *We can't discard the null hypothesis*.\n",
        "- We can see a trend that makes motivation more centered into lower values while in the middle intervals for the study hours. So for these groups the motivation is mostly not just to pass the course.\n",
        "\n",
        "  ### Q6.3: Relation between employment status and seeking support in the video **recordings**\n"
      ],
      "metadata": {
        "id": "-DNylgS-fl7g"
      }
    },
    {
      "cell_type": "code",
      "source": [
        "# Q6.3: Employment status and Seeks support in video lectures relation -> We try Chi-Square Test\n",
        "# Create a contingency table for Employment and Seeking Support\n",
        "contingency_table = pd.crosstab(subset_data['Employment'], subset_data['SpprtVideo'])\n",
        "print(\"Contingency Table:\")\n",
        "print(contingency_table)"
      ],
      "metadata": {
        "colab": {
          "base_uri": "https://localhost:8080/"
        },
        "id": "C9lXaYajgDTt",
        "outputId": "af3157a2-f0f6-4e79-ebc3-b9870ad75469"
      },
      "execution_count": null,
      "outputs": [
        {
          "output_type": "stream",
          "name": "stdout",
          "text": [
            "Contingency Table:\n",
            "SpprtVideo  2  3  4   5   6   7\n",
            "Employment                     \n",
            "1           1  2  1  14  12  27\n",
            "2           0  0  2   2   4   5\n",
            "3           0  0  1   0   3   2\n"
          ]
        }
      ]
    },
    {
      "cell_type": "code",
      "source": [
        "# Perform Chi-Square Test of Independence\n",
        "chi2_stat, p_value, dof, expected = chi2_contingency(contingency_table)\n",
        "\n",
        "# Check the assumptions of Chi-Square Test\n",
        "print(\"\\nExpected Frequencies:\")\n",
        "print(expected)\n",
        "\n",
        "# Check for expected frequency violations\n",
        "violations = (expected < 1).sum()  # Number of cells with expected frequency < 1\n",
        "small_freq = (expected < 5).sum()  # Number of cells with expected frequency < 5\n",
        "total_cells = expected.size        # Total number of cells\n",
        "percent_small_freq = (small_freq / total_cells) * 100  # Percentage of small frequencies\n",
        "\n",
        "print(f\"\\nAssumption Check:\")\n",
        "print(f\"Cells with expected frequency < 1: {violations}\")\n",
        "print(f\"Cells with expected frequency < 5: {small_freq} ({percent_small_freq:.2f}% of total cells)\")\n",
        "\n",
        "# Evaluate if the assumptions are violated\n",
        "if violations > 0:\n",
        "    print(\"\\nChi-Square Test is NOT valid: At least one expected frequency is < 1.\")\n",
        "elif percent_small_freq > 20:\n",
        "    print(\"\\nChi-Square Test is NOT valid: More than 20% of cells have expected frequencies < 5.\")\n",
        "else:\n",
        "    print(\"\\nChi-Square Test assumptions are met. Proceeding with the test...\")"
      ],
      "metadata": {
        "colab": {
          "base_uri": "https://localhost:8080/"
        },
        "id": "fSvzDZ32j5w5",
        "outputId": "54486814-661f-4453-cc2d-4bb3ecdf1231"
      },
      "execution_count": null,
      "outputs": [
        {
          "output_type": "stream",
          "name": "stdout",
          "text": [
            "\n",
            "Expected Frequencies:\n",
            "[[ 0.75        1.5         3.         12.         14.25       25.5       ]\n",
            " [ 0.17105263  0.34210526  0.68421053  2.73684211  3.25        5.81578947]\n",
            " [ 0.07894737  0.15789474  0.31578947  1.26315789  1.5         2.68421053]]\n",
            "\n",
            "Assumption Check:\n",
            "Cells with expected frequency < 1: 7\n",
            "Cells with expected frequency < 5: 14 (77.78% of total cells)\n",
            "\n",
            "Chi-Square Test is NOT valid: At least one expected frequency is < 1.\n"
          ]
        }
      ]
    },
    {
      "cell_type": "code",
      "source": [
        "# Since the conditions for Chi-Square are not met, we try Fisher's exact test\n",
        "# Create the original 3x7 contingency table\n",
        "contingency_table_3x7 = pd.crosstab(subset_data['Employment'], subset_data['SpprtVideo'])\n",
        "\n",
        "print(\"3x7 Contingency Table:\")\n",
        "print(contingency_table_3x7)\n",
        "\n",
        "# Attempt Fisher's Exact Test\n",
        "try:\n",
        "    # Perform Fisher's Exact Test for larger tables\n",
        "    fisher_p_value_3x7 = sm.stats.Table2x2.from_data(contingency_table_3x7.to_numpy()).test_nominal_association().pvalue\n",
        "    print(\"\\nFisher's Exact Test Results for 3x7 Table:\")\n",
        "    print(f\"P-value: {fisher_p_value_3x7}\")\n",
        "except Exception as e:\n",
        "    print(\"\\nFisher's Exact Test could not be performed on the 3x7 table.\")\n",
        "    print(f\"Error: {e}\")"
      ],
      "metadata": {
        "id": "N1DmorOKyVVP",
        "colab": {
          "base_uri": "https://localhost:8080/"
        },
        "outputId": "2c13ff8d-9cbc-4134-c3bd-abd658d96a72"
      },
      "execution_count": null,
      "outputs": [
        {
          "output_type": "stream",
          "name": "stdout",
          "text": [
            "3x7 Contingency Table:\n",
            "SpprtVideo  2  3  4   5   6   7\n",
            "Employment                     \n",
            "1           1  2  1  14  12  27\n",
            "2           0  0  2   2   4   5\n",
            "3           0  0  1   0   3   2\n",
            "\n",
            "Fisher's Exact Test Results for 3x7 Table:\n",
            "P-value: 0.8969074635734545\n"
          ]
        }
      ]
    },
    {
      "cell_type": "code",
      "source": [
        "# Collapse Seeks Support into 3 categories\n",
        "def collapse_support(value):\n",
        "    if value in [1, 2, 3]:\n",
        "        return 'Low'\n",
        "    elif value == 4:\n",
        "        return 'Neutral'\n",
        "    else:\n",
        "        return 'High'\n",
        "\n",
        "# Collapse Employment Status into 2 categories\n",
        "def collapse_employment(value):\n",
        "    if value in [1, 2]:  # Full-time or Part-time\n",
        "        return 'Employed'\n",
        "    else:\n",
        "        return 'Not working'\n",
        "\n",
        "# Create new columns for the collapsed variables\n",
        "subset_data['CollapsedSupport'] = subset_data['SpprtVideo'].apply(collapse_support)\n",
        "subset_data['CollapsedEmployment'] = subset_data['Employment'].apply(collapse_employment)\n",
        "\n",
        "# Create the 2x3 contingency table\n",
        "contingency_table_2x3 = pd.crosstab(subset_data['CollapsedEmployment'], subset_data['CollapsedSupport'])\n",
        "\n",
        "print(\"\\n2x3 Contingency Table:\")\n",
        "print(contingency_table_2x3)\n",
        "\n",
        "# Perform Fisher's Exact Test for the 2x3 table\n",
        "try:\n",
        "    fisher_p_value_2x3 = sm.stats.Table2x2.from_data(contingency_table_2x3.to_numpy()).test_nominal_association().pvalue\n",
        "    print(\"\\nFisher's Exact Test Results for 2x3 Table:\")\n",
        "    print(f\"P-value: {fisher_p_value_2x3}\")\n",
        "except Exception as e:\n",
        "    print(\"\\nFisher's Exact Test could not be performed on the 2x3 table.\")\n",
        "    print(f\"Error: {e}\")"
      ],
      "metadata": {
        "colab": {
          "base_uri": "https://localhost:8080/"
        },
        "id": "kGW0QWRz3OXL",
        "outputId": "77384fb0-6bf7-433d-d537-168f9c63a555"
      },
      "execution_count": null,
      "outputs": [
        {
          "output_type": "stream",
          "name": "stdout",
          "text": [
            "\n",
            "2x3 Contingency Table:\n",
            "CollapsedSupport     High  Low  Neutral\n",
            "CollapsedEmployment                    \n",
            "Employed               64    3        3\n",
            "Not working             5    0        1\n",
            "\n",
            "Fisher's Exact Test Results for 2x3 Table:\n",
            "P-value: 0.9999806683148182\n"
          ]
        }
      ]
    },
    {
      "cell_type": "code",
      "source": [
        "# Further collapse the variables to create a 2x2 table\n",
        "\n",
        "# Re-use collapsed employment variable\n",
        "subset_data['Employment_2x2'] = subset_data['Employment'].apply(lambda x: 'Employed' if x in [1, 2] else 'Not working')\n",
        "\n",
        "# Collapse support into High (5-7) and Low (1-4)\n",
        "subset_data['Support_2x2'] = subset_data['SpprtVideo'].apply(lambda x: 'High Support' if x >= 5 else 'Low Support')\n",
        "\n",
        "# Create the 2x2 contingency table\n",
        "contingency_table_2x2 = pd.crosstab(subset_data['Employment_2x2'], subset_data['Support_2x2'])\n",
        "print(\"\\n2x2 Contingency Table:\")\n",
        "print(contingency_table_2x2)\n",
        "\n",
        "# Perform Fisher's Exact Test on the 2x2 table\n",
        "try:\n",
        "    odds_ratio, p_value = fisher_exact(contingency_table_2x2.to_numpy(), alternative='two-sided')\n",
        "    print(\"\\nFisher's Exact Test Results for 2x2 Table:\")\n",
        "    print(f\"Odds Ratio: {odds_ratio}\")\n",
        "    print(f\"P-value: {p_value}\")\n",
        "except Exception as e:\n",
        "    print(\"\\nFisher's Exact Test could not be performed on the 2x2 table.\")\n",
        "    print(f\"Error: {e}\")\n"
      ],
      "metadata": {
        "colab": {
          "base_uri": "https://localhost:8080/"
        },
        "id": "EOzjcA8o457L",
        "outputId": "12c54747-7c44-4445-d8d6-23a8a39c94b4"
      },
      "execution_count": null,
      "outputs": [
        {
          "output_type": "stream",
          "name": "stdout",
          "text": [
            "\n",
            "2x2 Contingency Table:\n",
            "Support_2x2     High Support  Low Support\n",
            "Employment_2x2                           \n",
            "Employed                  64            6\n",
            "Not working                5            1\n",
            "\n",
            "Fisher's Exact Test Results for 2x2 Table:\n",
            "Odds Ratio: 2.1333333333333333\n",
            "P-value: 0.4516601718039617\n"
          ]
        }
      ]
    },
    {
      "cell_type": "markdown",
      "source": [
        "**Test results:**\n",
        "- The conditions for the Chi-Square were not met.\n",
        "- Fisher's Exact test gave p > 0,05 for the 3 different contincengy tables we tried, grouping cathegories. Therefore, we cannot discard the null hypothesis."
      ],
      "metadata": {
        "id": "9hzuDYGP8KFn"
      }
    }
  ]
}